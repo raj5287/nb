{
 "cells": [
  {
   "cell_type": "markdown",
   "metadata": {},
   "source": [
    "# [18] Amazon Fine Food Reviews Analysis\n",
    "\n",
    "\n",
    "Data Source: https://www.kaggle.com/snap/amazon-fine-food-reviews\n",
    "\n",
    "The Amazon Fine Food Reviews dataset consists of reviews of fine foods from Amazon.<br>\n",
    "\n",
    "Number of reviews: 568,454<br>\n",
    "Number of users: 256,059<br>\n",
    "Number of products: 74,258<br>\n",
    "Timespan: Oct 1999 - Oct 2012<br>\n",
    "Number of Attributes/Columns in data: 10 \n",
    "\n",
    "Attribute Information:\n",
    "\n",
    "1. Id\n",
    "2. ProductId - unique identifier for the product\n",
    "3. UserId - unqiue identifier for the user\n",
    "4. ProfileName\n",
    "5. HelpfulnessNumerator - number of users who found the review helpful\n",
    "6. HelpfulnessDenominator - number of users who indicated whether they found the review helpful or not\n",
    "7. Score - rating between 1 and 5\n",
    "8. Time - timestamp for the review\n",
    "9. Summary - brief summary of the review\n",
    "10. Text - text of the review\n",
    "\n",
    "\n",
    "#### Objective:\n",
    "Given a review, determine whether the review is positive (Rating of 4 or 5) or negative (rating of 1 or 2).\n",
    "\n",
    "<br>\n",
    "[Q] How to determine if a review is positive or negative?<br>\n",
    "<br> \n",
    "[Ans] We could use the Score/Rating. A rating of 4 or 5 could be cosnidered a positive review. A review of 1 or 2 could be considered negative. A review of 3 is nuetral and ignored. This is an approximate and proxy way of determining the polarity (positivity/negativity) of a review.\n",
    "\n",
    "\n"
   ]
  },
  {
   "cell_type": "markdown",
   "metadata": {},
   "source": [
    "## [18.1] Loading the data\n",
    "\n",
    "The dataset is available in two forms\n",
    "1. .csv file\n",
    "2. SQLite Database\n",
    "\n",
    "In order to load the data, We have used the SQLITE dataset as it easier to query the data and visualise the data efficiently.\n",
    "<br> \n",
    "\n",
    "Here as we only want to get the global sentiment of the recommendations (positive or negative), we will purposefully ignore all Scores equal to 3. If the score id above 3, then the recommendation wil be set to \"positive\". Otherwise, it will be set to \"negative\"."
   ]
  },
  {
   "cell_type": "code",
   "execution_count": 1,
   "metadata": {},
   "outputs": [
    {
     "name": "stderr",
     "output_type": "stream",
     "text": [
      "C:\\Users\\raj52\\Anaconda3\\lib\\site-packages\\gensim\\utils.py:1197: UserWarning: detected Windows; aliasing chunkize to chunkize_serial\n",
      "  warnings.warn(\"detected Windows; aliasing chunkize to chunkize_serial\")\n"
     ]
    }
   ],
   "source": [
    "%matplotlib inline\n",
    "import warnings\n",
    "warnings.filterwarnings(\"ignore\")\n",
    "\n",
    "import sqlite3\n",
    "import pandas as pd\n",
    "import numpy as np\n",
    "import nltk\n",
    "import string\n",
    "import matplotlib.pyplot as plt\n",
    "import seaborn as sns\n",
    "from sklearn.feature_extraction.text import TfidfTransformer\n",
    "from sklearn.feature_extraction.text import TfidfVectorizer\n",
    "from sklearn import neighbors\n",
    "from sklearn.feature_extraction.text import CountVectorizer\n",
    "from sklearn.metrics import confusion_matrix\n",
    "from sklearn.metrics import accuracy_score\n",
    "from nltk.stem.porter import PorterStemmer\n",
    "\n",
    "import re\n",
    "# Tutorial about Python regular expressions: https://pymotw.com/2/re/\n",
    "import string\n",
    "from nltk.corpus import stopwords\n",
    "from nltk.stem import PorterStemmer\n",
    "from nltk.stem.wordnet import WordNetLemmatizer\n",
    "\n",
    "from gensim.models import Word2Vec\n",
    "from gensim.models import KeyedVectors\n",
    "import pickle\n",
    "from sklearn.model_selection import GridSearchCV\n",
    "from sklearn.metrics import classification_report\n",
    "from sklearn.naive_bayes import MultinomialNB\n",
    "from sklearn.metrics import confusion_matrix"
   ]
  },
  {
   "cell_type": "code",
   "execution_count": 2,
   "metadata": {},
   "outputs": [],
   "source": [
    "# using the SQLite Table to read data.\n",
    "con = sqlite3.connect('database.sqlite') \n",
    "\n",
    "\n",
    "\n",
    "#filtering only positive and negative reviews i.e. \n",
    "# not taking into consideration those reviews with Score=3\n",
    "filtered_data = pd.read_sql_query(\"\"\" SELECT * FROM Reviews WHERE Score != 3 \"\"\", con) \n",
    "\n",
    "\n",
    "# Give reviews with Score>3 a positive rating, and reviews with a score<3 a negative rating.\n",
    "def partition(x):\n",
    "    if x < 3:\n",
    "        return 'negative'\n",
    "    return 'positive'\n",
    "\n",
    "#changing reviews with score less than 3 to be positive and vice-versa\n",
    "actualScore = filtered_data['Score']\n",
    "positiveNegative = actualScore.map(partition)\n",
    "filtered_data['Score'] = positiveNegative"
   ]
  },
  {
   "cell_type": "code",
   "execution_count": 3,
   "metadata": {},
   "outputs": [
    {
     "name": "stdout",
     "output_type": "stream",
     "text": [
      "(525814, 10)\n"
     ]
    },
    {
     "data": {
      "text/html": [
       "<div>\n",
       "<style scoped>\n",
       "    .dataframe tbody tr th:only-of-type {\n",
       "        vertical-align: middle;\n",
       "    }\n",
       "\n",
       "    .dataframe tbody tr th {\n",
       "        vertical-align: top;\n",
       "    }\n",
       "\n",
       "    .dataframe thead th {\n",
       "        text-align: right;\n",
       "    }\n",
       "</style>\n",
       "<table border=\"1\" class=\"dataframe\">\n",
       "  <thead>\n",
       "    <tr style=\"text-align: right;\">\n",
       "      <th></th>\n",
       "      <th>Id</th>\n",
       "      <th>ProductId</th>\n",
       "      <th>UserId</th>\n",
       "      <th>ProfileName</th>\n",
       "      <th>HelpfulnessNumerator</th>\n",
       "      <th>HelpfulnessDenominator</th>\n",
       "      <th>Score</th>\n",
       "      <th>Time</th>\n",
       "      <th>Summary</th>\n",
       "      <th>Text</th>\n",
       "    </tr>\n",
       "  </thead>\n",
       "  <tbody>\n",
       "    <tr>\n",
       "      <th>0</th>\n",
       "      <td>1</td>\n",
       "      <td>B001E4KFG0</td>\n",
       "      <td>A3SGXH7AUHU8GW</td>\n",
       "      <td>delmartian</td>\n",
       "      <td>1</td>\n",
       "      <td>1</td>\n",
       "      <td>positive</td>\n",
       "      <td>1303862400</td>\n",
       "      <td>Good Quality Dog Food</td>\n",
       "      <td>I have bought several of the Vitality canned d...</td>\n",
       "    </tr>\n",
       "    <tr>\n",
       "      <th>1</th>\n",
       "      <td>2</td>\n",
       "      <td>B00813GRG4</td>\n",
       "      <td>A1D87F6ZCVE5NK</td>\n",
       "      <td>dll pa</td>\n",
       "      <td>0</td>\n",
       "      <td>0</td>\n",
       "      <td>negative</td>\n",
       "      <td>1346976000</td>\n",
       "      <td>Not as Advertised</td>\n",
       "      <td>Product arrived labeled as Jumbo Salted Peanut...</td>\n",
       "    </tr>\n",
       "    <tr>\n",
       "      <th>2</th>\n",
       "      <td>3</td>\n",
       "      <td>B000LQOCH0</td>\n",
       "      <td>ABXLMWJIXXAIN</td>\n",
       "      <td>Natalia Corres \"Natalia Corres\"</td>\n",
       "      <td>1</td>\n",
       "      <td>1</td>\n",
       "      <td>positive</td>\n",
       "      <td>1219017600</td>\n",
       "      <td>\"Delight\" says it all</td>\n",
       "      <td>This is a confection that has been around a fe...</td>\n",
       "    </tr>\n",
       "    <tr>\n",
       "      <th>3</th>\n",
       "      <td>4</td>\n",
       "      <td>B000UA0QIQ</td>\n",
       "      <td>A395BORC6FGVXV</td>\n",
       "      <td>Karl</td>\n",
       "      <td>3</td>\n",
       "      <td>3</td>\n",
       "      <td>negative</td>\n",
       "      <td>1307923200</td>\n",
       "      <td>Cough Medicine</td>\n",
       "      <td>If you are looking for the secret ingredient i...</td>\n",
       "    </tr>\n",
       "    <tr>\n",
       "      <th>4</th>\n",
       "      <td>5</td>\n",
       "      <td>B006K2ZZ7K</td>\n",
       "      <td>A1UQRSCLF8GW1T</td>\n",
       "      <td>Michael D. Bigham \"M. Wassir\"</td>\n",
       "      <td>0</td>\n",
       "      <td>0</td>\n",
       "      <td>positive</td>\n",
       "      <td>1350777600</td>\n",
       "      <td>Great taffy</td>\n",
       "      <td>Great taffy at a great price.  There was a wid...</td>\n",
       "    </tr>\n",
       "  </tbody>\n",
       "</table>\n",
       "</div>"
      ],
      "text/plain": [
       "   Id   ProductId          UserId                      ProfileName  \\\n",
       "0   1  B001E4KFG0  A3SGXH7AUHU8GW                       delmartian   \n",
       "1   2  B00813GRG4  A1D87F6ZCVE5NK                           dll pa   \n",
       "2   3  B000LQOCH0   ABXLMWJIXXAIN  Natalia Corres \"Natalia Corres\"   \n",
       "3   4  B000UA0QIQ  A395BORC6FGVXV                             Karl   \n",
       "4   5  B006K2ZZ7K  A1UQRSCLF8GW1T    Michael D. Bigham \"M. Wassir\"   \n",
       "\n",
       "   HelpfulnessNumerator  HelpfulnessDenominator     Score        Time  \\\n",
       "0                     1                       1  positive  1303862400   \n",
       "1                     0                       0  negative  1346976000   \n",
       "2                     1                       1  positive  1219017600   \n",
       "3                     3                       3  negative  1307923200   \n",
       "4                     0                       0  positive  1350777600   \n",
       "\n",
       "                 Summary                                               Text  \n",
       "0  Good Quality Dog Food  I have bought several of the Vitality canned d...  \n",
       "1      Not as Advertised  Product arrived labeled as Jumbo Salted Peanut...  \n",
       "2  \"Delight\" says it all  This is a confection that has been around a fe...  \n",
       "3         Cough Medicine  If you are looking for the secret ingredient i...  \n",
       "4            Great taffy  Great taffy at a great price.  There was a wid...  "
      ]
     },
     "execution_count": 3,
     "metadata": {},
     "output_type": "execute_result"
    }
   ],
   "source": [
    "print (filtered_data.shape) #looking at the number of attributes and size of the data\n",
    "filtered_data.head()"
   ]
  },
  {
   "cell_type": "markdown",
   "metadata": {},
   "source": [
    "#  Exploratory Data Analysis\n",
    "\n",
    "## [18.1.2] Data Cleaning: Deduplication\n",
    "\n",
    "It is observed (as shown in the table below) that the reviews data had many duplicate entries. Hence it was necessary to remove duplicates in order to get unbiased results for the analysis of the data.  Following is an example:"
   ]
  },
  {
   "cell_type": "code",
   "execution_count": 4,
   "metadata": {},
   "outputs": [
    {
     "data": {
      "text/html": [
       "<div>\n",
       "<style scoped>\n",
       "    .dataframe tbody tr th:only-of-type {\n",
       "        vertical-align: middle;\n",
       "    }\n",
       "\n",
       "    .dataframe tbody tr th {\n",
       "        vertical-align: top;\n",
       "    }\n",
       "\n",
       "    .dataframe thead th {\n",
       "        text-align: right;\n",
       "    }\n",
       "</style>\n",
       "<table border=\"1\" class=\"dataframe\">\n",
       "  <thead>\n",
       "    <tr style=\"text-align: right;\">\n",
       "      <th></th>\n",
       "      <th>Id</th>\n",
       "      <th>ProductId</th>\n",
       "      <th>UserId</th>\n",
       "      <th>ProfileName</th>\n",
       "      <th>HelpfulnessNumerator</th>\n",
       "      <th>HelpfulnessDenominator</th>\n",
       "      <th>Score</th>\n",
       "      <th>Time</th>\n",
       "      <th>Summary</th>\n",
       "      <th>Text</th>\n",
       "    </tr>\n",
       "  </thead>\n",
       "  <tbody>\n",
       "    <tr>\n",
       "      <th>0</th>\n",
       "      <td>150519</td>\n",
       "      <td>0006641040</td>\n",
       "      <td>A12HY5OZ2QNK4N</td>\n",
       "      <td>Elizabeth H. Roessner</td>\n",
       "      <td>0</td>\n",
       "      <td>0</td>\n",
       "      <td>5</td>\n",
       "      <td>1256774400</td>\n",
       "      <td>It's a great book!</td>\n",
       "      <td>I've always loved chicken soup and rice. My la...</td>\n",
       "    </tr>\n",
       "    <tr>\n",
       "      <th>1</th>\n",
       "      <td>150511</td>\n",
       "      <td>0006641040</td>\n",
       "      <td>A1C9K534BCI9GO</td>\n",
       "      <td>Laura Purdie Salas</td>\n",
       "      <td>0</td>\n",
       "      <td>0</td>\n",
       "      <td>4</td>\n",
       "      <td>1344211200</td>\n",
       "      <td>Charming and childlike</td>\n",
       "      <td>A charming, rhyming book that describes the ci...</td>\n",
       "    </tr>\n",
       "    <tr>\n",
       "      <th>2</th>\n",
       "      <td>150512</td>\n",
       "      <td>0006641040</td>\n",
       "      <td>A1DJXZA5V5FFVA</td>\n",
       "      <td>A. Conway</td>\n",
       "      <td>0</td>\n",
       "      <td>0</td>\n",
       "      <td>5</td>\n",
       "      <td>1338249600</td>\n",
       "      <td>Must have.</td>\n",
       "      <td>I set aside at least an hour each day to read ...</td>\n",
       "    </tr>\n",
       "    <tr>\n",
       "      <th>3</th>\n",
       "      <td>150497</td>\n",
       "      <td>0006641040</td>\n",
       "      <td>A1HKYQOFC8ZZCH</td>\n",
       "      <td>Maria Apolloni \"lanarossa\"</td>\n",
       "      <td>2</td>\n",
       "      <td>2</td>\n",
       "      <td>1</td>\n",
       "      <td>1334707200</td>\n",
       "      <td>The story is great, the softcover book is disa...</td>\n",
       "      <td>I give five stars to the Maurice Sendak story....</td>\n",
       "    </tr>\n",
       "    <tr>\n",
       "      <th>4</th>\n",
       "      <td>150500</td>\n",
       "      <td>0006641040</td>\n",
       "      <td>A1IJKK6Q1GTEAY</td>\n",
       "      <td>A Customer</td>\n",
       "      <td>2</td>\n",
       "      <td>2</td>\n",
       "      <td>5</td>\n",
       "      <td>1009324800</td>\n",
       "      <td>It Was a favorite!</td>\n",
       "      <td>This was a favorite book of mine when I was a ...</td>\n",
       "    </tr>\n",
       "    <tr>\n",
       "      <th>5</th>\n",
       "      <td>150522</td>\n",
       "      <td>0006641040</td>\n",
       "      <td>A1S3C5OFU508P3</td>\n",
       "      <td>Charles Ashbacher</td>\n",
       "      <td>0</td>\n",
       "      <td>0</td>\n",
       "      <td>4</td>\n",
       "      <td>1219536000</td>\n",
       "      <td>Children will find it entertaining and a gener...</td>\n",
       "      <td>This book contains a collection of twelve shor...</td>\n",
       "    </tr>\n",
       "    <tr>\n",
       "      <th>6</th>\n",
       "      <td>150507</td>\n",
       "      <td>0006641040</td>\n",
       "      <td>A1S4A3IQ2MU7V4</td>\n",
       "      <td>sally sue \"sally sue\"</td>\n",
       "      <td>1</td>\n",
       "      <td>1</td>\n",
       "      <td>4</td>\n",
       "      <td>1191456000</td>\n",
       "      <td>chicken soup with rice months</td>\n",
       "      <td>This is a fun way for children to learn their ...</td>\n",
       "    </tr>\n",
       "    <tr>\n",
       "      <th>7</th>\n",
       "      <td>150529</td>\n",
       "      <td>0006641040</td>\n",
       "      <td>A25ACLV5KPB4W</td>\n",
       "      <td>Matt Hetling \"Matt\"</td>\n",
       "      <td>0</td>\n",
       "      <td>1</td>\n",
       "      <td>4</td>\n",
       "      <td>1108425600</td>\n",
       "      <td>Nice cadence, catchy rhymes</td>\n",
       "      <td>In June&lt;br /&gt;I saw a charming group&lt;br /&gt;of ro...</td>\n",
       "    </tr>\n",
       "    <tr>\n",
       "      <th>8</th>\n",
       "      <td>150506</td>\n",
       "      <td>0006641040</td>\n",
       "      <td>A2IW4PEEKO2R0U</td>\n",
       "      <td>Tracy</td>\n",
       "      <td>1</td>\n",
       "      <td>1</td>\n",
       "      <td>4</td>\n",
       "      <td>1194739200</td>\n",
       "      <td>Love the book, miss the hard cover version</td>\n",
       "      <td>I grew up reading these Sendak books, and watc...</td>\n",
       "    </tr>\n",
       "    <tr>\n",
       "      <th>9</th>\n",
       "      <td>150514</td>\n",
       "      <td>0006641040</td>\n",
       "      <td>A2ONB6ZA292PA</td>\n",
       "      <td>Rosalind Matzner</td>\n",
       "      <td>0</td>\n",
       "      <td>0</td>\n",
       "      <td>5</td>\n",
       "      <td>1313884800</td>\n",
       "      <td>Chicken soup with Rice</td>\n",
       "      <td>It's a great book with adorable illustrations....</td>\n",
       "    </tr>\n",
       "    <tr>\n",
       "      <th>10</th>\n",
       "      <td>150523</td>\n",
       "      <td>0006641040</td>\n",
       "      <td>A2P4F2UO0UMP8C</td>\n",
       "      <td>Elizabeth A. Curry \"Lovely Librarian\"</td>\n",
       "      <td>0</td>\n",
       "      <td>0</td>\n",
       "      <td>4</td>\n",
       "      <td>1096675200</td>\n",
       "      <td>MMMM chicken soup....</td>\n",
       "      <td>Summary:  A young boy describes the usefulness...</td>\n",
       "    </tr>\n",
       "    <tr>\n",
       "      <th>11</th>\n",
       "      <td>150505</td>\n",
       "      <td>0006641040</td>\n",
       "      <td>A2PTSM496CF40Z</td>\n",
       "      <td>Jason A. Teeple \"Nobody made a greater mistak...</td>\n",
       "      <td>1</td>\n",
       "      <td>1</td>\n",
       "      <td>4</td>\n",
       "      <td>1210809600</td>\n",
       "      <td>A classic</td>\n",
       "      <td>Get the movie or sound track and sing along wi...</td>\n",
       "    </tr>\n",
       "    <tr>\n",
       "      <th>12</th>\n",
       "      <td>150525</td>\n",
       "      <td>0006641040</td>\n",
       "      <td>A2QID6VCFTY51R</td>\n",
       "      <td>Rick</td>\n",
       "      <td>1</td>\n",
       "      <td>2</td>\n",
       "      <td>5</td>\n",
       "      <td>1025481600</td>\n",
       "      <td>In December it will be, my snowman's anniversa...</td>\n",
       "      <td>My daughter loves all the \"Really Rosie\" books...</td>\n",
       "    </tr>\n",
       "    <tr>\n",
       "      <th>13</th>\n",
       "      <td>150495</td>\n",
       "      <td>0006641040</td>\n",
       "      <td>A2QXYSXGQ2PKAU</td>\n",
       "      <td>Support for Providers</td>\n",
       "      <td>3</td>\n",
       "      <td>3</td>\n",
       "      <td>3</td>\n",
       "      <td>1129507200</td>\n",
       "      <td>Disappointed</td>\n",
       "      <td>When I ordered a large amount of these books t...</td>\n",
       "    </tr>\n",
       "    <tr>\n",
       "      <th>14</th>\n",
       "      <td>150515</td>\n",
       "      <td>0006641040</td>\n",
       "      <td>A2RTT81R6Y3R7X</td>\n",
       "      <td>Lindylu</td>\n",
       "      <td>0</td>\n",
       "      <td>0</td>\n",
       "      <td>5</td>\n",
       "      <td>1303171200</td>\n",
       "      <td>One of our family's favorite books</td>\n",
       "      <td>This book is a family favorite and was read to...</td>\n",
       "    </tr>\n",
       "    <tr>\n",
       "      <th>15</th>\n",
       "      <td>150527</td>\n",
       "      <td>0006641040</td>\n",
       "      <td>A367OXCD2R6MC1</td>\n",
       "      <td>Laurel \"I love the internet.\"</td>\n",
       "      <td>0</td>\n",
       "      <td>1</td>\n",
       "      <td>3</td>\n",
       "      <td>1323820800</td>\n",
       "      <td>This book is much too small</td>\n",
       "      <td>It was a great price, but I can't read it to m...</td>\n",
       "    </tr>\n",
       "    <tr>\n",
       "      <th>16</th>\n",
       "      <td>150509</td>\n",
       "      <td>0006641040</td>\n",
       "      <td>A3CMRKGE0P909G</td>\n",
       "      <td>Teresa</td>\n",
       "      <td>3</td>\n",
       "      <td>4</td>\n",
       "      <td>5</td>\n",
       "      <td>1018396800</td>\n",
       "      <td>A great way to learn the months</td>\n",
       "      <td>This is a book of poetry about the months of t...</td>\n",
       "    </tr>\n",
       "    <tr>\n",
       "      <th>17</th>\n",
       "      <td>150499</td>\n",
       "      <td>0006641040</td>\n",
       "      <td>A3E7R866M94L0C</td>\n",
       "      <td>L. Barker \"simienwolf\"</td>\n",
       "      <td>2</td>\n",
       "      <td>2</td>\n",
       "      <td>5</td>\n",
       "      <td>1065830400</td>\n",
       "      <td>Can't explain why</td>\n",
       "      <td>This book has been a favorite of mine since I ...</td>\n",
       "    </tr>\n",
       "    <tr>\n",
       "      <th>18</th>\n",
       "      <td>150526</td>\n",
       "      <td>0006641040</td>\n",
       "      <td>A3E9QZFE9KXH8J</td>\n",
       "      <td>R. Mitchell</td>\n",
       "      <td>11</td>\n",
       "      <td>18</td>\n",
       "      <td>1</td>\n",
       "      <td>1129507200</td>\n",
       "      <td>awesome book poor size</td>\n",
       "      <td>This is one of the best children's books ever ...</td>\n",
       "    </tr>\n",
       "    <tr>\n",
       "      <th>19</th>\n",
       "      <td>150496</td>\n",
       "      <td>0006641040</td>\n",
       "      <td>A3KKR87BJ0C595</td>\n",
       "      <td>Gretchen Goodfellow \"Lover of children's lit\"</td>\n",
       "      <td>3</td>\n",
       "      <td>3</td>\n",
       "      <td>5</td>\n",
       "      <td>1111363200</td>\n",
       "      <td>You'll use it once, you'll use it twice</td>\n",
       "      <td>One of my earliest memories is of this book.  ...</td>\n",
       "    </tr>\n",
       "    <tr>\n",
       "      <th>20</th>\n",
       "      <td>150516</td>\n",
       "      <td>0006641040</td>\n",
       "      <td>A3OI7ZGH6WZJ5G</td>\n",
       "      <td>Mary Jane Rogers \"Maedchen\"</td>\n",
       "      <td>0</td>\n",
       "      <td>0</td>\n",
       "      <td>5</td>\n",
       "      <td>1293840000</td>\n",
       "      <td>Darling!</td>\n",
       "      <td>The same author wrote \"Where the Wild Things A...</td>\n",
       "    </tr>\n",
       "    <tr>\n",
       "      <th>21</th>\n",
       "      <td>150503</td>\n",
       "      <td>0006641040</td>\n",
       "      <td>A3R5XMPFU8YZ4D</td>\n",
       "      <td>Her Royal Motherliness \"Nana\"</td>\n",
       "      <td>1</td>\n",
       "      <td>1</td>\n",
       "      <td>5</td>\n",
       "      <td>1233964800</td>\n",
       "      <td>so fun to read</td>\n",
       "      <td>This is my grand daughter's and my favorite bo...</td>\n",
       "    </tr>\n",
       "    <tr>\n",
       "      <th>22</th>\n",
       "      <td>150521</td>\n",
       "      <td>0006641040</td>\n",
       "      <td>A3RMCRB2NDTDYP</td>\n",
       "      <td>Carol Carruthers</td>\n",
       "      <td>0</td>\n",
       "      <td>0</td>\n",
       "      <td>5</td>\n",
       "      <td>1243468800</td>\n",
       "      <td>This book is great!</td>\n",
       "      <td>My 7 year old daughter brought this book home ...</td>\n",
       "    </tr>\n",
       "    <tr>\n",
       "      <th>23</th>\n",
       "      <td>150498</td>\n",
       "      <td>0006641040</td>\n",
       "      <td>A3SJWISOCP31TR</td>\n",
       "      <td>R. J. Wells</td>\n",
       "      <td>2</td>\n",
       "      <td>2</td>\n",
       "      <td>5</td>\n",
       "      <td>1176336000</td>\n",
       "      <td>A Gem of a Book</td>\n",
       "      <td>This is a wonderful little book. I loved it 40...</td>\n",
       "    </tr>\n",
       "    <tr>\n",
       "      <th>24</th>\n",
       "      <td>150517</td>\n",
       "      <td>0006641040</td>\n",
       "      <td>ABW4IC5G5G8B5</td>\n",
       "      <td>kevin clark</td>\n",
       "      <td>0</td>\n",
       "      <td>0</td>\n",
       "      <td>5</td>\n",
       "      <td>1291075200</td>\n",
       "      <td>good for children</td>\n",
       "      <td>Classic children's book, can't go wrong. I rea...</td>\n",
       "    </tr>\n",
       "    <tr>\n",
       "      <th>25</th>\n",
       "      <td>150524</td>\n",
       "      <td>0006641040</td>\n",
       "      <td>ACITT7DI6IDDL</td>\n",
       "      <td>shari zychinski</td>\n",
       "      <td>0</td>\n",
       "      <td>0</td>\n",
       "      <td>5</td>\n",
       "      <td>939340800</td>\n",
       "      <td>EVERY book is educational</td>\n",
       "      <td>this witty little book makes my son laugh at l...</td>\n",
       "    </tr>\n",
       "    <tr>\n",
       "      <th>26</th>\n",
       "      <td>150520</td>\n",
       "      <td>0006641040</td>\n",
       "      <td>ADBFSA9KTQANE</td>\n",
       "      <td>James L. Hammock \"Pucks Buddy\"</td>\n",
       "      <td>0</td>\n",
       "      <td>0</td>\n",
       "      <td>5</td>\n",
       "      <td>1256688000</td>\n",
       "      <td>Great Gift</td>\n",
       "      <td>This book was purchased as a birthday gift for...</td>\n",
       "    </tr>\n",
       "    <tr>\n",
       "      <th>27</th>\n",
       "      <td>150528</td>\n",
       "      <td>0006641040</td>\n",
       "      <td>AGQWHPNDZGUD0</td>\n",
       "      <td>Bolt81</td>\n",
       "      <td>0</td>\n",
       "      <td>1</td>\n",
       "      <td>3</td>\n",
       "      <td>1296864000</td>\n",
       "      <td>Size does matter</td>\n",
       "      <td>This book was purchased to be used in a classr...</td>\n",
       "    </tr>\n",
       "    <tr>\n",
       "      <th>28</th>\n",
       "      <td>150501</td>\n",
       "      <td>0006641040</td>\n",
       "      <td>AJ46FKXOVC7NR</td>\n",
       "      <td>Nicholas A Mesiano</td>\n",
       "      <td>2</td>\n",
       "      <td>2</td>\n",
       "      <td>5</td>\n",
       "      <td>940809600</td>\n",
       "      <td>This whole series is great way to spend time w...</td>\n",
       "      <td>I can remember seeing the show when it aired o...</td>\n",
       "    </tr>\n",
       "    <tr>\n",
       "      <th>29</th>\n",
       "      <td>150518</td>\n",
       "      <td>0006641040</td>\n",
       "      <td>AK1L4EJBA23JF</td>\n",
       "      <td>L. M. Kraus</td>\n",
       "      <td>0</td>\n",
       "      <td>0</td>\n",
       "      <td>5</td>\n",
       "      <td>1288224000</td>\n",
       "      <td>love this book</td>\n",
       "      <td>Great book, perfect condition arrived in a sho...</td>\n",
       "    </tr>\n",
       "    <tr>\n",
       "      <th>...</th>\n",
       "      <td>...</td>\n",
       "      <td>...</td>\n",
       "      <td>...</td>\n",
       "      <td>...</td>\n",
       "      <td>...</td>\n",
       "      <td>...</td>\n",
       "      <td>...</td>\n",
       "      <td>...</td>\n",
       "      <td>...</td>\n",
       "      <td>...</td>\n",
       "    </tr>\n",
       "    <tr>\n",
       "      <th>568424</th>\n",
       "      <td>193174</td>\n",
       "      <td>B009RSR8HO</td>\n",
       "      <td>A4P6AN2L435PV</td>\n",
       "      <td>romarc</td>\n",
       "      <td>0</td>\n",
       "      <td>0</td>\n",
       "      <td>5</td>\n",
       "      <td>1350432000</td>\n",
       "      <td>LOVE!!  LOVE!!</td>\n",
       "      <td>LOVE, LOVE this sweetener!!  I use it in all m...</td>\n",
       "    </tr>\n",
       "    <tr>\n",
       "      <th>568425</th>\n",
       "      <td>193167</td>\n",
       "      <td>B009RSR8HO</td>\n",
       "      <td>A5F9OUO3F2N7C</td>\n",
       "      <td>Jan</td>\n",
       "      <td>0</td>\n",
       "      <td>0</td>\n",
       "      <td>5</td>\n",
       "      <td>1350604800</td>\n",
       "      <td>The Best Ever</td>\n",
       "      <td>Zero sweetner is the BEST I have ever used.One...</td>\n",
       "    </tr>\n",
       "    <tr>\n",
       "      <th>568426</th>\n",
       "      <td>193176</td>\n",
       "      <td>B009RSR8HO</td>\n",
       "      <td>A76WHW051R3KV</td>\n",
       "      <td>Shawn \"Shawn\"</td>\n",
       "      <td>0</td>\n",
       "      <td>0</td>\n",
       "      <td>5</td>\n",
       "      <td>1350432000</td>\n",
       "      <td>My #1 Sweetener of choice</td>\n",
       "      <td>What a wonderful product! It's perfect to use ...</td>\n",
       "    </tr>\n",
       "    <tr>\n",
       "      <th>568427</th>\n",
       "      <td>193166</td>\n",
       "      <td>B009RSR8HO</td>\n",
       "      <td>AD0V42PRKCDBM</td>\n",
       "      <td>Rachelle</td>\n",
       "      <td>0</td>\n",
       "      <td>0</td>\n",
       "      <td>5</td>\n",
       "      <td>1350777600</td>\n",
       "      <td>Best sweetner ever!!!</td>\n",
       "      <td>This sweetner is so great. A little bit goes a...</td>\n",
       "    </tr>\n",
       "    <tr>\n",
       "      <th>568428</th>\n",
       "      <td>193171</td>\n",
       "      <td>B009RSR8HO</td>\n",
       "      <td>AH2FVNP7Z6PZH</td>\n",
       "      <td>Marty Campbell</td>\n",
       "      <td>0</td>\n",
       "      <td>0</td>\n",
       "      <td>5</td>\n",
       "      <td>1350432000</td>\n",
       "      <td>The BEST sugar replacement on the market!</td>\n",
       "      <td>I've been using Fat to Skinny Zero since it wa...</td>\n",
       "    </tr>\n",
       "    <tr>\n",
       "      <th>568429</th>\n",
       "      <td>204271</td>\n",
       "      <td>B009SA5NNW</td>\n",
       "      <td>A133WGB2RLKB1T</td>\n",
       "      <td>Temple Gordon</td>\n",
       "      <td>1</td>\n",
       "      <td>1</td>\n",
       "      <td>4</td>\n",
       "      <td>1321228800</td>\n",
       "      <td>Walkers smkey bacon crisps</td>\n",
       "      <td>These are amazing chips but they just cost too...</td>\n",
       "    </tr>\n",
       "    <tr>\n",
       "      <th>568430</th>\n",
       "      <td>204279</td>\n",
       "      <td>B009SA5NNW</td>\n",
       "      <td>A1PVBIUKEDNGVP</td>\n",
       "      <td>Steve L</td>\n",
       "      <td>0</td>\n",
       "      <td>0</td>\n",
       "      <td>5</td>\n",
       "      <td>1333843200</td>\n",
       "      <td>One Word, \"YUM!\"</td>\n",
       "      <td>If you like salt and vinegar crisps (chips), b...</td>\n",
       "    </tr>\n",
       "    <tr>\n",
       "      <th>568431</th>\n",
       "      <td>204270</td>\n",
       "      <td>B009SA5NNW</td>\n",
       "      <td>A1V93C9YW5T0LQ</td>\n",
       "      <td>N. Hunt \"Übergeek\"</td>\n",
       "      <td>1</td>\n",
       "      <td>1</td>\n",
       "      <td>3</td>\n",
       "      <td>1335571200</td>\n",
       "      <td>Americans beware, curious labeling</td>\n",
       "      <td>the product is listed as a 150g 6-pack.&lt;br /&gt;T...</td>\n",
       "    </tr>\n",
       "    <tr>\n",
       "      <th>568432</th>\n",
       "      <td>204275</td>\n",
       "      <td>B009SA5NNW</td>\n",
       "      <td>A1XPE0WCC6RYVO</td>\n",
       "      <td>AnthonyT</td>\n",
       "      <td>0</td>\n",
       "      <td>0</td>\n",
       "      <td>5</td>\n",
       "      <td>1344988800</td>\n",
       "      <td>Excellent</td>\n",
       "      <td>These are the best flavor chips, my daughter a...</td>\n",
       "    </tr>\n",
       "    <tr>\n",
       "      <th>568433</th>\n",
       "      <td>204283</td>\n",
       "      <td>B009SA5NNW</td>\n",
       "      <td>A2QXG1QOV4MTVL</td>\n",
       "      <td>Wordup \"Wordup2you\"</td>\n",
       "      <td>0</td>\n",
       "      <td>0</td>\n",
       "      <td>1</td>\n",
       "      <td>1321920000</td>\n",
       "      <td>Stale Chips</td>\n",
       "      <td>Item came promptly however the crisps were 3 m...</td>\n",
       "    </tr>\n",
       "    <tr>\n",
       "      <th>568434</th>\n",
       "      <td>204284</td>\n",
       "      <td>B009SA5NNW</td>\n",
       "      <td>A2SB8DPH72UOM7</td>\n",
       "      <td>Tim C.</td>\n",
       "      <td>0</td>\n",
       "      <td>0</td>\n",
       "      <td>4</td>\n",
       "      <td>1317600000</td>\n",
       "      <td>Yum!</td>\n",
       "      <td>Bought these the other day while I was in Cana...</td>\n",
       "    </tr>\n",
       "    <tr>\n",
       "      <th>568435</th>\n",
       "      <td>204277</td>\n",
       "      <td>B009SA5NNW</td>\n",
       "      <td>A2TWDT92R8VPTI</td>\n",
       "      <td>d wilson \"Visitor from a Perpendicular Universe\"</td>\n",
       "      <td>0</td>\n",
       "      <td>0</td>\n",
       "      <td>5</td>\n",
       "      <td>1337904000</td>\n",
       "      <td>Tastes just like bacon!</td>\n",
       "      <td>I had a bag of these during a trip to London. ...</td>\n",
       "    </tr>\n",
       "    <tr>\n",
       "      <th>568436</th>\n",
       "      <td>204285</td>\n",
       "      <td>B009SA5NNW</td>\n",
       "      <td>A2XNO53D6J6322</td>\n",
       "      <td>dragenfli254</td>\n",
       "      <td>0</td>\n",
       "      <td>0</td>\n",
       "      <td>5</td>\n",
       "      <td>1317081600</td>\n",
       "      <td>Delish!</td>\n",
       "      <td>I had these wonderful chips in Ireland a few y...</td>\n",
       "    </tr>\n",
       "    <tr>\n",
       "      <th>568437</th>\n",
       "      <td>204282</td>\n",
       "      <td>B009SA5NNW</td>\n",
       "      <td>A373QMETEUKMS7</td>\n",
       "      <td>Rebecca Wade</td>\n",
       "      <td>0</td>\n",
       "      <td>0</td>\n",
       "      <td>4</td>\n",
       "      <td>1327017600</td>\n",
       "      <td>Excellent!</td>\n",
       "      <td>The crisps are awesome. Give me English crisps...</td>\n",
       "    </tr>\n",
       "    <tr>\n",
       "      <th>568438</th>\n",
       "      <td>204274</td>\n",
       "      <td>B009SA5NNW</td>\n",
       "      <td>A379KV6EQ66ZJR</td>\n",
       "      <td>Craig</td>\n",
       "      <td>0</td>\n",
       "      <td>0</td>\n",
       "      <td>5</td>\n",
       "      <td>1347062400</td>\n",
       "      <td>Awesome Crisps!!! Arrived in just 8 days in Te...</td>\n",
       "      <td>These crisps are my favorite.  I ordered these...</td>\n",
       "    </tr>\n",
       "    <tr>\n",
       "      <th>568439</th>\n",
       "      <td>204281</td>\n",
       "      <td>B009SA5NNW</td>\n",
       "      <td>A3CBCI8ZU6A9XM</td>\n",
       "      <td>Cody B.</td>\n",
       "      <td>0</td>\n",
       "      <td>0</td>\n",
       "      <td>5</td>\n",
       "      <td>1328486400</td>\n",
       "      <td>Cody B.</td>\n",
       "      <td>I loved the chips they were AWESOME!!! but tha...</td>\n",
       "    </tr>\n",
       "    <tr>\n",
       "      <th>568440</th>\n",
       "      <td>204278</td>\n",
       "      <td>B009SA5NNW</td>\n",
       "      <td>A3M922QSBYYXR</td>\n",
       "      <td>Jeannie Jordahl</td>\n",
       "      <td>0</td>\n",
       "      <td>0</td>\n",
       "      <td>5</td>\n",
       "      <td>1335744000</td>\n",
       "      <td>These were amazing!</td>\n",
       "      <td>This chips kind of reminded me of bacon bits. ...</td>\n",
       "    </tr>\n",
       "    <tr>\n",
       "      <th>568441</th>\n",
       "      <td>204276</td>\n",
       "      <td>B009SA5NNW</td>\n",
       "      <td>A3U0YIPTZX8DZ4</td>\n",
       "      <td>vee</td>\n",
       "      <td>0</td>\n",
       "      <td>0</td>\n",
       "      <td>4</td>\n",
       "      <td>1339977600</td>\n",
       "      <td>Re-Rating</td>\n",
       "      <td>Okay, I jumped the gun, because they were send...</td>\n",
       "    </tr>\n",
       "    <tr>\n",
       "      <th>568442</th>\n",
       "      <td>204273</td>\n",
       "      <td>B009SA5NNW</td>\n",
       "      <td>AG4YGLLIE8BWP</td>\n",
       "      <td>Miwintee</td>\n",
       "      <td>0</td>\n",
       "      <td>0</td>\n",
       "      <td>5</td>\n",
       "      <td>1351123200</td>\n",
       "      <td>Makes me drool just thinking of them</td>\n",
       "      <td>The Brit's have out done us. The flavor is sup...</td>\n",
       "    </tr>\n",
       "    <tr>\n",
       "      <th>568443</th>\n",
       "      <td>204280</td>\n",
       "      <td>B009SA5NNW</td>\n",
       "      <td>AI1G344L7R1TN</td>\n",
       "      <td>Brian M. Schissler</td>\n",
       "      <td>0</td>\n",
       "      <td>0</td>\n",
       "      <td>4</td>\n",
       "      <td>1332979200</td>\n",
       "      <td>WOW.....</td>\n",
       "      <td>This could possibly be the best tasting chip I...</td>\n",
       "    </tr>\n",
       "    <tr>\n",
       "      <th>568444</th>\n",
       "      <td>204286</td>\n",
       "      <td>B009SA5NNW</td>\n",
       "      <td>AVRU1Z8N59UZV</td>\n",
       "      <td>LIsa Fresch</td>\n",
       "      <td>0</td>\n",
       "      <td>1</td>\n",
       "      <td>1</td>\n",
       "      <td>1349654400</td>\n",
       "      <td>Walkers Crisps 6 pack</td>\n",
       "      <td>I ordered this product on Amazon to get some o...</td>\n",
       "    </tr>\n",
       "    <tr>\n",
       "      <th>568445</th>\n",
       "      <td>204272</td>\n",
       "      <td>B009SA5NNW</td>\n",
       "      <td>AWFA8N9IXELVH</td>\n",
       "      <td>No Pen Name</td>\n",
       "      <td>0</td>\n",
       "      <td>0</td>\n",
       "      <td>1</td>\n",
       "      <td>1351123200</td>\n",
       "      <td>Deceptive description</td>\n",
       "      <td>On Oct 9 I ordered from a different vendor the...</td>\n",
       "    </tr>\n",
       "    <tr>\n",
       "      <th>568446</th>\n",
       "      <td>188389</td>\n",
       "      <td>B009SF0TN6</td>\n",
       "      <td>A1L0GWGRK4BYPT</td>\n",
       "      <td>Bety Robinson</td>\n",
       "      <td>0</td>\n",
       "      <td>0</td>\n",
       "      <td>5</td>\n",
       "      <td>1350518400</td>\n",
       "      <td>Amazing!! Great sauce for everything!</td>\n",
       "      <td>You have to try this sauce to believe it! It s...</td>\n",
       "    </tr>\n",
       "    <tr>\n",
       "      <th>568447</th>\n",
       "      <td>226019</td>\n",
       "      <td>B009SMKESO</td>\n",
       "      <td>A35K4XT7T1ZIFU</td>\n",
       "      <td>Inez Rivera</td>\n",
       "      <td>0</td>\n",
       "      <td>1</td>\n",
       "      <td>4</td>\n",
       "      <td>1304985600</td>\n",
       "      <td>Not a bad product.</td>\n",
       "      <td>This review is for the boneless ham. A little ...</td>\n",
       "    </tr>\n",
       "    <tr>\n",
       "      <th>568448</th>\n",
       "      <td>221795</td>\n",
       "      <td>B009SR4OQ2</td>\n",
       "      <td>A32A6X5KCP7ARG</td>\n",
       "      <td>sicamar</td>\n",
       "      <td>1</td>\n",
       "      <td>1</td>\n",
       "      <td>5</td>\n",
       "      <td>1350604800</td>\n",
       "      <td>Awesome Taste</td>\n",
       "      <td>I bought this Hazelnut Paste (Nocciola Spread)...</td>\n",
       "    </tr>\n",
       "    <tr>\n",
       "      <th>568449</th>\n",
       "      <td>191721</td>\n",
       "      <td>B009UOFTUI</td>\n",
       "      <td>AJVB004EB0MVK</td>\n",
       "      <td>D. Christofferson</td>\n",
       "      <td>0</td>\n",
       "      <td>0</td>\n",
       "      <td>1</td>\n",
       "      <td>1345852800</td>\n",
       "      <td>weak coffee not good for a premium product and...</td>\n",
       "      <td>This coffee supposedly is premium, it tastes w...</td>\n",
       "    </tr>\n",
       "    <tr>\n",
       "      <th>568450</th>\n",
       "      <td>1478</td>\n",
       "      <td>B009UOFU20</td>\n",
       "      <td>AJVB004EB0MVK</td>\n",
       "      <td>D. Christofferson</td>\n",
       "      <td>0</td>\n",
       "      <td>0</td>\n",
       "      <td>1</td>\n",
       "      <td>1345852800</td>\n",
       "      <td>weak coffee not good for a premium product and...</td>\n",
       "      <td>This coffee supposedly is premium, it tastes w...</td>\n",
       "    </tr>\n",
       "    <tr>\n",
       "      <th>568451</th>\n",
       "      <td>328482</td>\n",
       "      <td>B009UUS05I</td>\n",
       "      <td>ARL20DSHGVM1Y</td>\n",
       "      <td>Jamie</td>\n",
       "      <td>0</td>\n",
       "      <td>0</td>\n",
       "      <td>5</td>\n",
       "      <td>1331856000</td>\n",
       "      <td>Perfect</td>\n",
       "      <td>The basket was the perfect sympathy gift when ...</td>\n",
       "    </tr>\n",
       "    <tr>\n",
       "      <th>568452</th>\n",
       "      <td>5703</td>\n",
       "      <td>B009WSNWC4</td>\n",
       "      <td>AMP7K1O84DH1T</td>\n",
       "      <td>ESTY</td>\n",
       "      <td>0</td>\n",
       "      <td>0</td>\n",
       "      <td>5</td>\n",
       "      <td>1351209600</td>\n",
       "      <td>DELICIOUS</td>\n",
       "      <td>Purchased this product at a local store in NY ...</td>\n",
       "    </tr>\n",
       "    <tr>\n",
       "      <th>568453</th>\n",
       "      <td>327601</td>\n",
       "      <td>B009WVB40S</td>\n",
       "      <td>A3ME78KVX31T21</td>\n",
       "      <td>K'la</td>\n",
       "      <td>0</td>\n",
       "      <td>0</td>\n",
       "      <td>5</td>\n",
       "      <td>1351123200</td>\n",
       "      <td>Tasty!</td>\n",
       "      <td>I purchased this to send to my son who's away ...</td>\n",
       "    </tr>\n",
       "  </tbody>\n",
       "</table>\n",
       "<p>568454 rows × 10 columns</p>\n",
       "</div>"
      ],
      "text/plain": [
       "            Id   ProductId          UserId  \\\n",
       "0       150519  0006641040  A12HY5OZ2QNK4N   \n",
       "1       150511  0006641040  A1C9K534BCI9GO   \n",
       "2       150512  0006641040  A1DJXZA5V5FFVA   \n",
       "3       150497  0006641040  A1HKYQOFC8ZZCH   \n",
       "4       150500  0006641040  A1IJKK6Q1GTEAY   \n",
       "5       150522  0006641040  A1S3C5OFU508P3   \n",
       "6       150507  0006641040  A1S4A3IQ2MU7V4   \n",
       "7       150529  0006641040   A25ACLV5KPB4W   \n",
       "8       150506  0006641040  A2IW4PEEKO2R0U   \n",
       "9       150514  0006641040   A2ONB6ZA292PA   \n",
       "10      150523  0006641040  A2P4F2UO0UMP8C   \n",
       "11      150505  0006641040  A2PTSM496CF40Z   \n",
       "12      150525  0006641040  A2QID6VCFTY51R   \n",
       "13      150495  0006641040  A2QXYSXGQ2PKAU   \n",
       "14      150515  0006641040  A2RTT81R6Y3R7X   \n",
       "15      150527  0006641040  A367OXCD2R6MC1   \n",
       "16      150509  0006641040  A3CMRKGE0P909G   \n",
       "17      150499  0006641040  A3E7R866M94L0C   \n",
       "18      150526  0006641040  A3E9QZFE9KXH8J   \n",
       "19      150496  0006641040  A3KKR87BJ0C595   \n",
       "20      150516  0006641040  A3OI7ZGH6WZJ5G   \n",
       "21      150503  0006641040  A3R5XMPFU8YZ4D   \n",
       "22      150521  0006641040  A3RMCRB2NDTDYP   \n",
       "23      150498  0006641040  A3SJWISOCP31TR   \n",
       "24      150517  0006641040   ABW4IC5G5G8B5   \n",
       "25      150524  0006641040   ACITT7DI6IDDL   \n",
       "26      150520  0006641040   ADBFSA9KTQANE   \n",
       "27      150528  0006641040   AGQWHPNDZGUD0   \n",
       "28      150501  0006641040   AJ46FKXOVC7NR   \n",
       "29      150518  0006641040   AK1L4EJBA23JF   \n",
       "...        ...         ...             ...   \n",
       "568424  193174  B009RSR8HO   A4P6AN2L435PV   \n",
       "568425  193167  B009RSR8HO   A5F9OUO3F2N7C   \n",
       "568426  193176  B009RSR8HO   A76WHW051R3KV   \n",
       "568427  193166  B009RSR8HO   AD0V42PRKCDBM   \n",
       "568428  193171  B009RSR8HO   AH2FVNP7Z6PZH   \n",
       "568429  204271  B009SA5NNW  A133WGB2RLKB1T   \n",
       "568430  204279  B009SA5NNW  A1PVBIUKEDNGVP   \n",
       "568431  204270  B009SA5NNW  A1V93C9YW5T0LQ   \n",
       "568432  204275  B009SA5NNW  A1XPE0WCC6RYVO   \n",
       "568433  204283  B009SA5NNW  A2QXG1QOV4MTVL   \n",
       "568434  204284  B009SA5NNW  A2SB8DPH72UOM7   \n",
       "568435  204277  B009SA5NNW  A2TWDT92R8VPTI   \n",
       "568436  204285  B009SA5NNW  A2XNO53D6J6322   \n",
       "568437  204282  B009SA5NNW  A373QMETEUKMS7   \n",
       "568438  204274  B009SA5NNW  A379KV6EQ66ZJR   \n",
       "568439  204281  B009SA5NNW  A3CBCI8ZU6A9XM   \n",
       "568440  204278  B009SA5NNW   A3M922QSBYYXR   \n",
       "568441  204276  B009SA5NNW  A3U0YIPTZX8DZ4   \n",
       "568442  204273  B009SA5NNW   AG4YGLLIE8BWP   \n",
       "568443  204280  B009SA5NNW   AI1G344L7R1TN   \n",
       "568444  204286  B009SA5NNW   AVRU1Z8N59UZV   \n",
       "568445  204272  B009SA5NNW   AWFA8N9IXELVH   \n",
       "568446  188389  B009SF0TN6  A1L0GWGRK4BYPT   \n",
       "568447  226019  B009SMKESO  A35K4XT7T1ZIFU   \n",
       "568448  221795  B009SR4OQ2  A32A6X5KCP7ARG   \n",
       "568449  191721  B009UOFTUI   AJVB004EB0MVK   \n",
       "568450    1478  B009UOFU20   AJVB004EB0MVK   \n",
       "568451  328482  B009UUS05I   ARL20DSHGVM1Y   \n",
       "568452    5703  B009WSNWC4   AMP7K1O84DH1T   \n",
       "568453  327601  B009WVB40S  A3ME78KVX31T21   \n",
       "\n",
       "                                             ProfileName  \\\n",
       "0                                  Elizabeth H. Roessner   \n",
       "1                                     Laura Purdie Salas   \n",
       "2                                              A. Conway   \n",
       "3                             Maria Apolloni \"lanarossa\"   \n",
       "4                                             A Customer   \n",
       "5                                      Charles Ashbacher   \n",
       "6                                  sally sue \"sally sue\"   \n",
       "7                                    Matt Hetling \"Matt\"   \n",
       "8                                                  Tracy   \n",
       "9                                       Rosalind Matzner   \n",
       "10                 Elizabeth A. Curry \"Lovely Librarian\"   \n",
       "11      Jason A. Teeple \"Nobody made a greater mistak...   \n",
       "12                                                  Rick   \n",
       "13                                 Support for Providers   \n",
       "14                                               Lindylu   \n",
       "15                         Laurel \"I love the internet.\"   \n",
       "16                                                Teresa   \n",
       "17                                L. Barker \"simienwolf\"   \n",
       "18                                           R. Mitchell   \n",
       "19         Gretchen Goodfellow \"Lover of children's lit\"   \n",
       "20                           Mary Jane Rogers \"Maedchen\"   \n",
       "21                         Her Royal Motherliness \"Nana\"   \n",
       "22                                      Carol Carruthers   \n",
       "23                                           R. J. Wells   \n",
       "24                                           kevin clark   \n",
       "25                                       shari zychinski   \n",
       "26                        James L. Hammock \"Pucks Buddy\"   \n",
       "27                                                Bolt81   \n",
       "28                                    Nicholas A Mesiano   \n",
       "29                                           L. M. Kraus   \n",
       "...                                                  ...   \n",
       "568424                                            romarc   \n",
       "568425                                               Jan   \n",
       "568426                                     Shawn \"Shawn\"   \n",
       "568427                                          Rachelle   \n",
       "568428                                    Marty Campbell   \n",
       "568429                                     Temple Gordon   \n",
       "568430                                           Steve L   \n",
       "568431                                N. Hunt \"Übergeek\"   \n",
       "568432                                          AnthonyT   \n",
       "568433                               Wordup \"Wordup2you\"   \n",
       "568434                                            Tim C.   \n",
       "568435  d wilson \"Visitor from a Perpendicular Universe\"   \n",
       "568436                                      dragenfli254   \n",
       "568437                                      Rebecca Wade   \n",
       "568438                                             Craig   \n",
       "568439                                           Cody B.   \n",
       "568440                                   Jeannie Jordahl   \n",
       "568441                                               vee   \n",
       "568442                                          Miwintee   \n",
       "568443                                Brian M. Schissler   \n",
       "568444                                       LIsa Fresch   \n",
       "568445                                       No Pen Name   \n",
       "568446                                     Bety Robinson   \n",
       "568447                                       Inez Rivera   \n",
       "568448                                           sicamar   \n",
       "568449                                 D. Christofferson   \n",
       "568450                                 D. Christofferson   \n",
       "568451                                             Jamie   \n",
       "568452                                              ESTY   \n",
       "568453                                              K'la   \n",
       "\n",
       "        HelpfulnessNumerator  HelpfulnessDenominator  Score        Time  \\\n",
       "0                          0                       0      5  1256774400   \n",
       "1                          0                       0      4  1344211200   \n",
       "2                          0                       0      5  1338249600   \n",
       "3                          2                       2      1  1334707200   \n",
       "4                          2                       2      5  1009324800   \n",
       "5                          0                       0      4  1219536000   \n",
       "6                          1                       1      4  1191456000   \n",
       "7                          0                       1      4  1108425600   \n",
       "8                          1                       1      4  1194739200   \n",
       "9                          0                       0      5  1313884800   \n",
       "10                         0                       0      4  1096675200   \n",
       "11                         1                       1      4  1210809600   \n",
       "12                         1                       2      5  1025481600   \n",
       "13                         3                       3      3  1129507200   \n",
       "14                         0                       0      5  1303171200   \n",
       "15                         0                       1      3  1323820800   \n",
       "16                         3                       4      5  1018396800   \n",
       "17                         2                       2      5  1065830400   \n",
       "18                        11                      18      1  1129507200   \n",
       "19                         3                       3      5  1111363200   \n",
       "20                         0                       0      5  1293840000   \n",
       "21                         1                       1      5  1233964800   \n",
       "22                         0                       0      5  1243468800   \n",
       "23                         2                       2      5  1176336000   \n",
       "24                         0                       0      5  1291075200   \n",
       "25                         0                       0      5   939340800   \n",
       "26                         0                       0      5  1256688000   \n",
       "27                         0                       1      3  1296864000   \n",
       "28                         2                       2      5   940809600   \n",
       "29                         0                       0      5  1288224000   \n",
       "...                      ...                     ...    ...         ...   \n",
       "568424                     0                       0      5  1350432000   \n",
       "568425                     0                       0      5  1350604800   \n",
       "568426                     0                       0      5  1350432000   \n",
       "568427                     0                       0      5  1350777600   \n",
       "568428                     0                       0      5  1350432000   \n",
       "568429                     1                       1      4  1321228800   \n",
       "568430                     0                       0      5  1333843200   \n",
       "568431                     1                       1      3  1335571200   \n",
       "568432                     0                       0      5  1344988800   \n",
       "568433                     0                       0      1  1321920000   \n",
       "568434                     0                       0      4  1317600000   \n",
       "568435                     0                       0      5  1337904000   \n",
       "568436                     0                       0      5  1317081600   \n",
       "568437                     0                       0      4  1327017600   \n",
       "568438                     0                       0      5  1347062400   \n",
       "568439                     0                       0      5  1328486400   \n",
       "568440                     0                       0      5  1335744000   \n",
       "568441                     0                       0      4  1339977600   \n",
       "568442                     0                       0      5  1351123200   \n",
       "568443                     0                       0      4  1332979200   \n",
       "568444                     0                       1      1  1349654400   \n",
       "568445                     0                       0      1  1351123200   \n",
       "568446                     0                       0      5  1350518400   \n",
       "568447                     0                       1      4  1304985600   \n",
       "568448                     1                       1      5  1350604800   \n",
       "568449                     0                       0      1  1345852800   \n",
       "568450                     0                       0      1  1345852800   \n",
       "568451                     0                       0      5  1331856000   \n",
       "568452                     0                       0      5  1351209600   \n",
       "568453                     0                       0      5  1351123200   \n",
       "\n",
       "                                                  Summary  \\\n",
       "0                                      It's a great book!   \n",
       "1                                  Charming and childlike   \n",
       "2                                              Must have.   \n",
       "3       The story is great, the softcover book is disa...   \n",
       "4                                      It Was a favorite!   \n",
       "5       Children will find it entertaining and a gener...   \n",
       "6                           chicken soup with rice months   \n",
       "7                             Nice cadence, catchy rhymes   \n",
       "8              Love the book, miss the hard cover version   \n",
       "9                                  Chicken soup with Rice   \n",
       "10                                  MMMM chicken soup....   \n",
       "11                                              A classic   \n",
       "12      In December it will be, my snowman's anniversa...   \n",
       "13                                           Disappointed   \n",
       "14                     One of our family's favorite books   \n",
       "15                            This book is much too small   \n",
       "16                        A great way to learn the months   \n",
       "17                                      Can't explain why   \n",
       "18                                 awesome book poor size   \n",
       "19                You'll use it once, you'll use it twice   \n",
       "20                                               Darling!   \n",
       "21                                         so fun to read   \n",
       "22                                    This book is great!   \n",
       "23                                        A Gem of a Book   \n",
       "24                                      good for children   \n",
       "25                              EVERY book is educational   \n",
       "26                                             Great Gift   \n",
       "27                                       Size does matter   \n",
       "28      This whole series is great way to spend time w...   \n",
       "29                                         love this book   \n",
       "...                                                   ...   \n",
       "568424                                     LOVE!!  LOVE!!   \n",
       "568425                                      The Best Ever   \n",
       "568426                          My #1 Sweetener of choice   \n",
       "568427                              Best sweetner ever!!!   \n",
       "568428          The BEST sugar replacement on the market!   \n",
       "568429                         Walkers smkey bacon crisps   \n",
       "568430                                   One Word, \"YUM!\"   \n",
       "568431                 Americans beware, curious labeling   \n",
       "568432                                          Excellent   \n",
       "568433                                        Stale Chips   \n",
       "568434                                               Yum!   \n",
       "568435                            Tastes just like bacon!   \n",
       "568436                                            Delish!   \n",
       "568437                                         Excellent!   \n",
       "568438  Awesome Crisps!!! Arrived in just 8 days in Te...   \n",
       "568439                                            Cody B.   \n",
       "568440                                These were amazing!   \n",
       "568441                                          Re-Rating   \n",
       "568442               Makes me drool just thinking of them   \n",
       "568443                                           WOW.....   \n",
       "568444                              Walkers Crisps 6 pack   \n",
       "568445                              Deceptive description   \n",
       "568446              Amazing!! Great sauce for everything!   \n",
       "568447                                 Not a bad product.   \n",
       "568448                                      Awesome Taste   \n",
       "568449  weak coffee not good for a premium product and...   \n",
       "568450  weak coffee not good for a premium product and...   \n",
       "568451                                            Perfect   \n",
       "568452                                          DELICIOUS   \n",
       "568453                                             Tasty!   \n",
       "\n",
       "                                                     Text  \n",
       "0       I've always loved chicken soup and rice. My la...  \n",
       "1       A charming, rhyming book that describes the ci...  \n",
       "2       I set aside at least an hour each day to read ...  \n",
       "3       I give five stars to the Maurice Sendak story....  \n",
       "4       This was a favorite book of mine when I was a ...  \n",
       "5       This book contains a collection of twelve shor...  \n",
       "6       This is a fun way for children to learn their ...  \n",
       "7       In June<br />I saw a charming group<br />of ro...  \n",
       "8       I grew up reading these Sendak books, and watc...  \n",
       "9       It's a great book with adorable illustrations....  \n",
       "10      Summary:  A young boy describes the usefulness...  \n",
       "11      Get the movie or sound track and sing along wi...  \n",
       "12      My daughter loves all the \"Really Rosie\" books...  \n",
       "13      When I ordered a large amount of these books t...  \n",
       "14      This book is a family favorite and was read to...  \n",
       "15      It was a great price, but I can't read it to m...  \n",
       "16      This is a book of poetry about the months of t...  \n",
       "17      This book has been a favorite of mine since I ...  \n",
       "18      This is one of the best children's books ever ...  \n",
       "19      One of my earliest memories is of this book.  ...  \n",
       "20      The same author wrote \"Where the Wild Things A...  \n",
       "21      This is my grand daughter's and my favorite bo...  \n",
       "22      My 7 year old daughter brought this book home ...  \n",
       "23      This is a wonderful little book. I loved it 40...  \n",
       "24      Classic children's book, can't go wrong. I rea...  \n",
       "25      this witty little book makes my son laugh at l...  \n",
       "26      This book was purchased as a birthday gift for...  \n",
       "27      This book was purchased to be used in a classr...  \n",
       "28      I can remember seeing the show when it aired o...  \n",
       "29      Great book, perfect condition arrived in a sho...  \n",
       "...                                                   ...  \n",
       "568424  LOVE, LOVE this sweetener!!  I use it in all m...  \n",
       "568425  Zero sweetner is the BEST I have ever used.One...  \n",
       "568426  What a wonderful product! It's perfect to use ...  \n",
       "568427  This sweetner is so great. A little bit goes a...  \n",
       "568428  I've been using Fat to Skinny Zero since it wa...  \n",
       "568429  These are amazing chips but they just cost too...  \n",
       "568430  If you like salt and vinegar crisps (chips), b...  \n",
       "568431  the product is listed as a 150g 6-pack.<br />T...  \n",
       "568432  These are the best flavor chips, my daughter a...  \n",
       "568433  Item came promptly however the crisps were 3 m...  \n",
       "568434  Bought these the other day while I was in Cana...  \n",
       "568435  I had a bag of these during a trip to London. ...  \n",
       "568436  I had these wonderful chips in Ireland a few y...  \n",
       "568437  The crisps are awesome. Give me English crisps...  \n",
       "568438  These crisps are my favorite.  I ordered these...  \n",
       "568439  I loved the chips they were AWESOME!!! but tha...  \n",
       "568440  This chips kind of reminded me of bacon bits. ...  \n",
       "568441  Okay, I jumped the gun, because they were send...  \n",
       "568442  The Brit's have out done us. The flavor is sup...  \n",
       "568443  This could possibly be the best tasting chip I...  \n",
       "568444  I ordered this product on Amazon to get some o...  \n",
       "568445  On Oct 9 I ordered from a different vendor the...  \n",
       "568446  You have to try this sauce to believe it! It s...  \n",
       "568447  This review is for the boneless ham. A little ...  \n",
       "568448  I bought this Hazelnut Paste (Nocciola Spread)...  \n",
       "568449  This coffee supposedly is premium, it tastes w...  \n",
       "568450  This coffee supposedly is premium, it tastes w...  \n",
       "568451  The basket was the perfect sympathy gift when ...  \n",
       "568452  Purchased this product at a local store in NY ...  \n",
       "568453  I purchased this to send to my son who's away ...  \n",
       "\n",
       "[568454 rows x 10 columns]"
      ]
     },
     "execution_count": 4,
     "metadata": {},
     "output_type": "execute_result"
    }
   ],
   "source": [
    "display= pd.read_sql_query(\"\"\"\n",
    "SELECT *\n",
    "FROM Reviews\n",
    "ORDER BY ProductID,UserId,Time\n",
    "\"\"\", con)\n",
    "display"
   ]
  },
  {
   "cell_type": "markdown",
   "metadata": {},
   "source": [
    "As can be seen above the same user has multiple reviews of the with the same values for HelpfulnessNumerator, HelpfulnessDenominator, Score, Time, Summary and Text  and on doing analysis it was found that <br>\n",
    "<br> \n",
    "ProductId=B000HDOPZG was Loacker Quadratini Vanilla Wafer Cookies, 8.82-Ounce Packages (Pack of 8)<br>\n",
    "<br> \n",
    "ProductId=B000HDL1RQ was Loacker Quadratini Lemon Wafer Cookies, 8.82-Ounce Packages (Pack of 8) and so on<br>\n",
    "\n",
    "It was inferred after analysis that reviews with same parameters other than ProductId belonged to the same product just having different flavour or quantity. Hence in order to reduce redundancy it was decided to eliminate the rows having same parameters.<br>\n",
    "\n",
    "The method used for the same was that we first sort the data according to ProductId and then just keep the first similar product review and delelte the others. for eg. in the above just the review for ProductId=B000HDL1RQ remains. This method ensures that there is only one representative for each product and deduplication without sorting would lead to possibility of different representatives still existing for the same product."
   ]
  },
  {
   "cell_type": "code",
   "execution_count": 5,
   "metadata": {},
   "outputs": [],
   "source": [
    "#Sorting data according to ProductId in ascending order\n",
    "sorted_data=filtered_data.sort_values('ProductId', axis=0, ascending=True, inplace=False, kind='quicksort', na_position='last')"
   ]
  },
  {
   "cell_type": "code",
   "execution_count": 6,
   "metadata": {},
   "outputs": [
    {
     "data": {
      "text/plain": [
       "(364173, 10)"
      ]
     },
     "execution_count": 6,
     "metadata": {},
     "output_type": "execute_result"
    }
   ],
   "source": [
    "#Deduplication of entries\n",
    "final=sorted_data.drop_duplicates(subset={\"UserId\",\"ProfileName\",\"Time\",\"Text\"}, keep='first', inplace=False)\n",
    "final.shape"
   ]
  },
  {
   "cell_type": "code",
   "execution_count": 7,
   "metadata": {},
   "outputs": [
    {
     "data": {
      "text/plain": [
       "69.25890143662969"
      ]
     },
     "execution_count": 7,
     "metadata": {},
     "output_type": "execute_result"
    }
   ],
   "source": [
    "#Checking to see how much % of data still remains\n",
    "(final['Id'].size*1.0)/(filtered_data['Id'].size*1.0)*100"
   ]
  },
  {
   "cell_type": "markdown",
   "metadata": {},
   "source": [
    "<b>Observation:-</b> It was also seen that in two rows given below the value of HelpfulnessNumerator is greater than HelpfulnessDenominator which is not practically possible hence these two rows too are removed from calcualtions"
   ]
  },
  {
   "cell_type": "code",
   "execution_count": 8,
   "metadata": {},
   "outputs": [
    {
     "data": {
      "text/html": [
       "<div>\n",
       "<style scoped>\n",
       "    .dataframe tbody tr th:only-of-type {\n",
       "        vertical-align: middle;\n",
       "    }\n",
       "\n",
       "    .dataframe tbody tr th {\n",
       "        vertical-align: top;\n",
       "    }\n",
       "\n",
       "    .dataframe thead th {\n",
       "        text-align: right;\n",
       "    }\n",
       "</style>\n",
       "<table border=\"1\" class=\"dataframe\">\n",
       "  <thead>\n",
       "    <tr style=\"text-align: right;\">\n",
       "      <th></th>\n",
       "      <th>Id</th>\n",
       "      <th>ProductId</th>\n",
       "      <th>UserId</th>\n",
       "      <th>ProfileName</th>\n",
       "      <th>HelpfulnessNumerator</th>\n",
       "      <th>HelpfulnessDenominator</th>\n",
       "      <th>Score</th>\n",
       "      <th>Time</th>\n",
       "      <th>Summary</th>\n",
       "      <th>Text</th>\n",
       "    </tr>\n",
       "  </thead>\n",
       "  <tbody>\n",
       "    <tr>\n",
       "      <th>0</th>\n",
       "      <td>64422</td>\n",
       "      <td>B000MIDROQ</td>\n",
       "      <td>A161DK06JJMCYF</td>\n",
       "      <td>J. E. Stephens \"Jeanne\"</td>\n",
       "      <td>3</td>\n",
       "      <td>1</td>\n",
       "      <td>5</td>\n",
       "      <td>1224892800</td>\n",
       "      <td>Bought This for My Son at College</td>\n",
       "      <td>My son loves spaghetti so I didn't hesitate or...</td>\n",
       "    </tr>\n",
       "    <tr>\n",
       "      <th>1</th>\n",
       "      <td>44737</td>\n",
       "      <td>B001EQ55RW</td>\n",
       "      <td>A2V0I904FH7ABY</td>\n",
       "      <td>Ram</td>\n",
       "      <td>3</td>\n",
       "      <td>2</td>\n",
       "      <td>4</td>\n",
       "      <td>1212883200</td>\n",
       "      <td>Pure cocoa taste with crunchy almonds inside</td>\n",
       "      <td>It was almost a 'love at first bite' - the per...</td>\n",
       "    </tr>\n",
       "  </tbody>\n",
       "</table>\n",
       "</div>"
      ],
      "text/plain": [
       "      Id   ProductId          UserId              ProfileName  \\\n",
       "0  64422  B000MIDROQ  A161DK06JJMCYF  J. E. Stephens \"Jeanne\"   \n",
       "1  44737  B001EQ55RW  A2V0I904FH7ABY                      Ram   \n",
       "\n",
       "   HelpfulnessNumerator  HelpfulnessDenominator  Score        Time  \\\n",
       "0                     3                       1      5  1224892800   \n",
       "1                     3                       2      4  1212883200   \n",
       "\n",
       "                                        Summary  \\\n",
       "0             Bought This for My Son at College   \n",
       "1  Pure cocoa taste with crunchy almonds inside   \n",
       "\n",
       "                                                Text  \n",
       "0  My son loves spaghetti so I didn't hesitate or...  \n",
       "1  It was almost a 'love at first bite' - the per...  "
      ]
     },
     "execution_count": 8,
     "metadata": {},
     "output_type": "execute_result"
    }
   ],
   "source": [
    "display= pd.read_sql_query(\"\"\"\n",
    "SELECT *\n",
    "FROM Reviews\n",
    "WHERE Score != 3 AND Id=44737 OR Id=64422\n",
    "ORDER BY ProductID\n",
    "\"\"\", con)\n",
    "\n",
    "display.head()"
   ]
  },
  {
   "cell_type": "code",
   "execution_count": 9,
   "metadata": {},
   "outputs": [],
   "source": [
    "final=final[final.HelpfulnessNumerator<=final.HelpfulnessDenominator]"
   ]
  },
  {
   "cell_type": "code",
   "execution_count": 10,
   "metadata": {},
   "outputs": [
    {
     "name": "stdout",
     "output_type": "stream",
     "text": [
      "(364171, 10)\n"
     ]
    },
    {
     "data": {
      "text/plain": [
       "positive    307061\n",
       "negative     57110\n",
       "Name: Score, dtype: int64"
      ]
     },
     "execution_count": 10,
     "metadata": {},
     "output_type": "execute_result"
    }
   ],
   "source": [
    "#Before starting the next phase of preprocessing lets see the number of entries left\n",
    "print(final.shape)\n",
    "\n",
    "#How many positive and negative reviews are present in our dataset?\n",
    "final['Score'].value_counts()"
   ]
  },
  {
   "cell_type": "markdown",
   "metadata": {},
   "source": [
    "## 18.1.3  Text Preprocessing: Stemming, stop-word removal and Lemmatization.\n",
    "\n",
    "Now that we have finished deduplication our data requires some preprocessing before we go on further with analysis and making the prediction model.\n",
    "\n",
    "Hence in the Preprocessing phase we do the following in the order below:-\n",
    "\n",
    "1. Begin by removing the html tags\n",
    "2. Remove any punctuations or limited set of special characters like , or . or # etc.\n",
    "3. Check if the word is made up of english letters and is not alpha-numeric\n",
    "4. Check to see if the length of the word is greater than 2 (as it was researched that there is no adjective in 2-letters)\n",
    "5. Convert the word to lowercase\n",
    "6. Remove Stopwords\n",
    "7. Finally Snowball Stemming the word (it was obsereved to be better than Porter Stemming)<br>\n",
    "\n",
    "After which we collect the words used to describe positive and negative reviews"
   ]
  },
  {
   "cell_type": "code",
   "execution_count": 11,
   "metadata": {},
   "outputs": [
    {
     "name": "stdout",
     "output_type": "stream",
     "text": [
      "6\n",
      "I set aside at least an hour each day to read to my son (3 y/o). At this point, I consider myself a connoisseur of children's books and this is one of the best. Santa Clause put this under the tree. Since then, we've read it perpetually and he loves it.<br /><br />First, this book taught him the months of the year.<br /><br />Second, it's a pleasure to read. Well suited to 1.5 y/o old to 4+.<br /><br />Very few children's books are worth owning. Most should be borrowed from the library. This book, however, deserves a permanent spot on your shelf. Sendak's best.\n"
     ]
    }
   ],
   "source": [
    "# find sentences containing HTML tags\n",
    "import re\n",
    "i=0;\n",
    "for sent in final['Text'].values:\n",
    "    if (len(re.findall('<.*?>', sent))):\n",
    "        print(i)\n",
    "        print(sent)\n",
    "        break;\n",
    "    i += 1;"
   ]
  },
  {
   "cell_type": "code",
   "execution_count": 12,
   "metadata": {},
   "outputs": [
    {
     "name": "stdout",
     "output_type": "stream",
     "text": [
      "{'hers', 'can', 'same', 'having', 'here', \"couldn't\", 'mustn', 'both', 're', 'doesn', 'how', 'his', 'who', 'ours', 'should', 'by', 'have', 'them', 'nor', 'its', \"she's\", 'for', 'or', 'wasn', 'had', 'wouldn', \"weren't\", 'her', 'again', 'above', 'yours', 'where', \"didn't\", 'there', 'weren', 'i', 'you', \"you'd\", 's', 'is', 'your', 'very', 'during', 'she', 'more', \"wasn't\", \"you'll\", 'an', 'herself', 'being', 'below', 'until', 'because', \"you've\", 'through', 'most', 'not', \"you're\", 'about', 'ourselves', \"needn't\", 'from', 'aren', 'then', \"that'll\", 'once', 'o', 'isn', 'theirs', 'what', 'why', 'off', 'needn', 'me', 'which', 'ma', 'd', 'only', 'don', 'shan', \"doesn't\", 'against', 'any', 'other', 'will', 'this', 'their', \"shan't\", \"won't\", \"mightn't\", 't', 'to', 'yourselves', 'hasn', 'am', 'hadn', 've', 'my', 'the', \"haven't\", 'it', 'all', \"should've\", 'are', 'in', 'himself', \"mustn't\", 'those', 'with', 'into', 'he', 'while', \"it's\", 'over', 'did', 'few', 'didn', 'do', 'won', 'when', 'shouldn', 'they', 'at', 'than', 'myself', 'does', 'couldn', 'up', 'so', 'just', 'doing', \"hadn't\", 'been', 'as', 'down', 'yourself', 'but', 'now', 'on', 'between', 'some', 'a', 'own', 'such', 'our', 'after', 'if', 'm', 'ain', 'that', 'no', 'of', 'him', 'under', 'before', \"don't\", 'be', 'whom', 'themselves', \"shouldn't\", 'these', 'll', 'haven', 'mightn', 'out', \"hasn't\", \"isn't\", 'were', 'has', 'y', 'too', 'itself', 'was', 'further', 'we', \"aren't\", \"wouldn't\", 'each', 'and'}\n",
      "************************************\n",
      "tasti\n"
     ]
    }
   ],
   "source": [
    "#nltk.download('stopwords')\n",
    "stop = set(stopwords.words('english')) #set of stopwords\n",
    "sno = nltk.stem.SnowballStemmer('english') #initialising the snowball stemmer\n",
    "\n",
    "def cleanhtml(sentence): #function to clean the word of any html-tags\n",
    "    cleanr = re.compile('<.*?>')\n",
    "    cleantext = re.sub(cleanr, ' ', sentence)\n",
    "    return cleantext\n",
    "def cleanpunc(sentence): #function to clean the word of any punctuation or special characters\n",
    "    cleaned = re.sub(r'[?|!|\\'|\"|#]',r'',sentence)\n",
    "    cleaned = re.sub(r'[.|,|)|(|\\|/]',r' ',cleaned)\n",
    "    return  cleaned\n",
    "print(stop)\n",
    "print('************************************')\n",
    "print(sno.stem('tasty'))"
   ]
  },
  {
   "cell_type": "code",
   "execution_count": 13,
   "metadata": {},
   "outputs": [],
   "source": [
    "#removing stop words and html tags\n",
    "#listing all words from potive and negative reviews\n",
    "i=0\n",
    "str1=' '\n",
    "final_string=[]\n",
    "all_positive_words=[] # store words from +ve reviews here\n",
    "all_negative_words=[] # store words from -ve reviews here.\n",
    "s=''\n",
    "for sent in final['Text'].values:\n",
    "    filtered_sentence=[]\n",
    "    #print(sent);\n",
    "    sent=cleanhtml(sent) # remove HTMl tags\n",
    "    for w in sent.split():\n",
    "        for cleaned_words in cleanpunc(w).split():\n",
    "            if((cleaned_words.isalpha()) & (len(cleaned_words)>2)):    \n",
    "                if(cleaned_words.lower() not in stop):\n",
    "                    s=(sno.stem(cleaned_words.lower())).encode('utf8')\n",
    "                    filtered_sentence.append(s)\n",
    "                    if (final['Score'].values)[i] == 'positive': \n",
    "                        all_positive_words.append(s) #list of all words used to describe positive reviews\n",
    "                    if(final['Score'].values)[i] == 'negative':\n",
    "                        all_negative_words.append(s) #list of all words used to describe negative reviews reviews\n",
    "                else:\n",
    "                    continue\n",
    "            else:\n",
    "                continue \n",
    "    #print(filtered_sentence)\n",
    "    str1 = b\" \".join(filtered_sentence) #final string of cleaned words\n",
    "    #print(\"***********************************************************************\")\n",
    "    \n",
    "    final_string.append(str1)\n",
    "    i+=1"
   ]
  },
  {
   "cell_type": "code",
   "execution_count": 14,
   "metadata": {},
   "outputs": [],
   "source": [
    "final['CleanedText']=final_string #adding a column of CleanedText which displays the data after pre-processing of the review \n",
    "final['CleanedText']=final['CleanedText'].str.decode(\"utf-8\")"
   ]
  },
  {
   "cell_type": "code",
   "execution_count": 15,
   "metadata": {},
   "outputs": [],
   "source": [
    "final.head(3) #below the processed review can be seen in the CleanedText Column \n",
    "\n",
    "\n",
    "# store final table into an SQlLite table for future.\n",
    "conn = sqlite3.connect('final.sqlite')\n",
    "c=conn.cursor()\n",
    "conn.text_factory = str\n",
    "final.to_sql('Reviews', conn,  schema=None, if_exists='replace', index=True, index_label=None, chunksize=None, dtype=None)"
   ]
  },
  {
   "cell_type": "code",
   "execution_count": 2,
   "metadata": {},
   "outputs": [],
   "source": [
    "con = sqlite3.connect('final.sqlite') \n",
    "\n",
    "final = pd.read_sql_query(\"\"\" SELECT * FROM Reviews \"\"\", con) "
   ]
  },
  {
   "cell_type": "code",
   "execution_count": 3,
   "metadata": {
    "scrolled": true
   },
   "outputs": [
    {
     "name": "stdout",
     "output_type": "stream",
     "text": [
      "The number of negative points and positive points are  28460 & 171540\n"
     ]
    }
   ],
   "source": [
    "#Sampling first 200K Data-Points of 364K Data-Points\n",
    "#after sorting by time\n",
    "\n",
    "#sorting by time\n",
    "final=final.sort_values('Time')\n",
    "\n",
    "df_sampled=final[:200000]\n",
    "print(\"The number of negative points and positive points are \",\n",
    "      df_sampled[df_sampled['Score']=='negative'].shape[0]\n",
    "     ,\"&\",df_sampled[df_sampled['Score']=='positive'].shape[0])"
   ]
  },
  {
   "cell_type": "markdown",
   "metadata": {},
   "source": [
    "## [18.1.4] Slicing Data in D-Train and D-Test"
   ]
  },
  {
   "cell_type": "code",
   "execution_count": 4,
   "metadata": {},
   "outputs": [
    {
     "name": "stdout",
     "output_type": "stream",
     "text": [
      "(140000, 12) (60000, 12)\n"
     ]
    }
   ],
   "source": [
    "# split the data set into train and test\n",
    "\n",
    "from sklearn import model_selection as ms\n",
    "y=df_sampled['Score']\n",
    "dw_train,dw_test,y_train,y_test=ms.train_test_split(df_sampled, y, test_size=0.3, random_state=0)\n",
    "print(dw_train.shape,dw_test.shape)"
   ]
  },
  {
   "cell_type": "markdown",
   "metadata": {},
   "source": [
    "# [18.2] Bag of Words (BoW)"
   ]
  },
  {
   "cell_type": "code",
   "execution_count": 5,
   "metadata": {},
   "outputs": [
    {
     "data": {
      "text/plain": [
       "CountVectorizer(analyzer='word', binary=False, decode_error='strict',\n",
       "        dtype=<class 'numpy.int64'>, encoding='utf-8', input='content',\n",
       "        lowercase=True, max_df=1.0, max_features=None, min_df=1,\n",
       "        ngram_range=(1, 1), preprocessor=None, stop_words=None,\n",
       "        strip_accents=None, token_pattern='(?u)\\\\b\\\\w\\\\w+\\\\b',\n",
       "        tokenizer=None, vocabulary=None)"
      ]
     },
     "execution_count": 5,
     "metadata": {},
     "output_type": "execute_result"
    }
   ],
   "source": [
    "#Build The Vocabulary\n",
    "count_vect = CountVectorizer() #in scikit-learn\n",
    "count_vect.fit(dw_train['CleanedText'].values)"
   ]
  },
  {
   "cell_type": "code",
   "execution_count": 6,
   "metadata": {},
   "outputs": [
    {
     "name": "stdout",
     "output_type": "stream",
     "text": [
      "the type of count vectorizer  <class 'scipy.sparse.csr.csr_matrix'>\n",
      "the shape of train-text BOW vectorizer  (140000, 44198)\n",
      "the shape of test-text BOW vectorizer  (60000, 44198)\n"
     ]
    }
   ],
   "source": [
    "#Vectorize train and test data\n",
    "\n",
    "d_train = count_vect.transform(dw_train['CleanedText'].values)\n",
    "print(\"the type of count vectorizer \",type(d_train))\n",
    "print(\"the shape of train-text BOW vectorizer \",d_train.get_shape())\n",
    "\n",
    "d_test = count_vect.transform(dw_test['CleanedText'].values)\n",
    "print(\"the shape of test-text BOW vectorizer \",d_test.get_shape())"
   ]
  },
  {
   "cell_type": "markdown",
   "metadata": {},
   "source": [
    "## [18.2.1] Bag Of Words with Bi-Grams and n-Grams.\n",
    "\n",
    "**Motivation**\n",
    "\n",
    "Now that we have our list of words describing positive and negative reviews lets analyse them.<br>\n",
    "\n",
    "We begin analysis by getting the frequency distribution of the words as shown below"
   ]
  },
  {
   "cell_type": "code",
   "execution_count": 21,
   "metadata": {
    "scrolled": true
   },
   "outputs": [
    {
     "name": "stdout",
     "output_type": "stream",
     "text": [
      "Most Common Positive Words :  [(b'like', 139429), (b'tast', 129047), (b'good', 112766), (b'flavor', 109624), (b'love', 107357), (b'use', 103888), (b'great', 103870), (b'one', 96726), (b'product', 91033), (b'tri', 86791), (b'tea', 83888), (b'coffe', 78814), (b'make', 75107), (b'get', 72125), (b'food', 64802), (b'would', 55568), (b'time', 55264), (b'buy', 54198), (b'realli', 52715), (b'eat', 52004)]\n",
      "Most Common Negative Words :  [(b'tast', 34585), (b'like', 32330), (b'product', 28218), (b'one', 20569), (b'flavor', 19575), (b'would', 17972), (b'tri', 17753), (b'use', 15302), (b'good', 15041), (b'coffe', 14716), (b'get', 13786), (b'buy', 13752), (b'order', 12871), (b'food', 12754), (b'dont', 11877), (b'tea', 11665), (b'even', 11085), (b'box', 10844), (b'amazon', 10073), (b'make', 9840)]\n"
     ]
    }
   ],
   "source": [
    "freq_dist_positive=nltk.FreqDist(all_positive_words)\n",
    "freq_dist_negative=nltk.FreqDist(all_negative_words)\n",
    "print(\"Most Common Positive Words : \",freq_dist_positive.most_common(20))\n",
    "print(\"Most Common Negative Words : \",freq_dist_negative.most_common(20))"
   ]
  },
  {
   "cell_type": "markdown",
   "metadata": {},
   "source": [
    "<b>Observation:-</b> From the above it can be seen that the most common positive and the negative words overlap for eg. 'like' could be used as 'not like' etc. <br>\n",
    "So, it is a good idea to consider pairs of consequent words (bi-grams) or q sequnce of n consecutive words (n-grams)"
   ]
  },
  {
   "cell_type": "code",
   "execution_count": 5,
   "metadata": {},
   "outputs": [
    {
     "data": {
      "text/plain": [
       "CountVectorizer(analyzer='word', binary=False, decode_error='strict',\n",
       "        dtype=<class 'numpy.int64'>, encoding='utf-8', input='content',\n",
       "        lowercase=True, max_df=1.0, max_features=None, min_df=1,\n",
       "        ngram_range=(1, 2), preprocessor=None, stop_words=None,\n",
       "        strip_accents=None, token_pattern='(?u)\\\\b\\\\w\\\\w+\\\\b',\n",
       "        tokenizer=None, vocabulary=None)"
      ]
     },
     "execution_count": 5,
     "metadata": {},
     "output_type": "execute_result"
    }
   ],
   "source": [
    "#building the vocabulary with uni-grams and bi-grams\n",
    "#removing stop words like \"not\" should be avoided before building n-grams\n",
    "count_vect_bg = CountVectorizer(ngram_range=(1,2))\n",
    "count_vect_bg.fit(dw_train['CleanedText'].values)"
   ]
  },
  {
   "cell_type": "code",
   "execution_count": 6,
   "metadata": {},
   "outputs": [
    {
     "name": "stdout",
     "output_type": "stream",
     "text": [
      "the type of count vectorizer  <class 'scipy.sparse.csr.csr_matrix'>\n",
      "the shape of train-text BOW vectorizer  (140000, 1558580)\n",
      "the shape of test-text BOW vectorizer  (60000, 1558580)\n"
     ]
    }
   ],
   "source": [
    "#Vectorize train and test data\n",
    "d_train_bg = count_vect_bg.transform(dw_train['CleanedText'].values)\n",
    "print(\"the type of count vectorizer \",type(d_train_bg))\n",
    "print(\"the shape of train-text BOW vectorizer \",d_train_bg.get_shape())\n",
    "\n",
    "d_test_bg = count_vect_bg.transform(dw_test['CleanedText'].values)\n",
    "print(\"the shape of test-text BOW vectorizer \",d_test_bg.get_shape())"
   ]
  },
  {
   "cell_type": "code",
   "execution_count": null,
   "metadata": {},
   "outputs": [],
   "source": [
    "from sklearn.decomposition import TruncatedSVD\n",
    "svd = TruncatedSVD(n_components=100, random_state=0)\n",
    "#without using bigram\n",
    "d_train_dense=svd.fit_transform(d_train_bg)\n",
    "print (svd.explained_variance_ratio_)\n",
    "print (svd.explained_variance_ratio_.cumsum())"
   ]
  },
  {
   "cell_type": "markdown",
   "metadata": {},
   "source": [
    "## [18.2.2] Multinomial Naive Bayes"
   ]
  },
  {
   "cell_type": "code",
   "execution_count": 9,
   "metadata": {},
   "outputs": [
    {
     "name": "stdout",
     "output_type": "stream",
     "text": [
      " optimal value is {'alpha': 1}\n",
      "\n"
     ]
    }
   ],
   "source": [
    "import warnings\n",
    "warnings.filterwarnings('ignore')\n",
    "\n",
    "#defining alpha for grid-search\n",
    "param= {'alpha':[0.001,0.01,1,10,100,1000,10000]}\n",
    "\n",
    "#Using Grid Search to get Best Alpha\n",
    "\n",
    "clf = GridSearchCV(MultinomialNB(), param, cv=5)\n",
    "clf.fit(d_train, y_train)\n",
    "print(\" optimal value is \" + str(clf.best_params_))\n",
    "print()\n",
    "optimal_alpha=clf.best_params_.get('alpha')"
   ]
  },
  {
   "cell_type": "code",
   "execution_count": 10,
   "metadata": {},
   "outputs": [
    {
     "data": {
      "text/plain": [
       "MultinomialNB(alpha=1, class_prior=None, fit_prior=True)"
      ]
     },
     "execution_count": 10,
     "metadata": {},
     "output_type": "execute_result"
    }
   ],
   "source": [
    "nb_bow=MultinomialNB(alpha=optimal_alpha)\n",
    "nb_bow.fit(d_train,y_train)\n"
   ]
  },
  {
   "cell_type": "code",
   "execution_count": 11,
   "metadata": {},
   "outputs": [
    {
     "data": {
      "text/plain": [
       "['nb_bow.pkl']"
      ]
     },
     "execution_count": 11,
     "metadata": {},
     "output_type": "execute_result"
    }
   ],
   "source": [
    "#Saving the model\n",
    "from sklearn.externals import joblib\n",
    "joblib.dump(nb_bow, 'nb_bow.pkl') "
   ]
  },
  {
   "cell_type": "code",
   "execution_count": 12,
   "metadata": {},
   "outputs": [],
   "source": [
    "#retrieve the model\n",
    "#from sklearn.externals import joblib\n",
    "#nb_bow = joblib.load('nb_bow.pkl')"
   ]
  },
  {
   "cell_type": "code",
   "execution_count": 13,
   "metadata": {},
   "outputs": [
    {
     "name": "stdout",
     "output_type": "stream",
     "text": [
      "[(-5.408317150828113, 'would'), (-5.397757287362497, 'amazon'), (-5.396153749517984, 'eat'), (-5.382937910612769, 'buy'), (-5.376728193978456, 'time'), (-5.238582463803187, 'food'), (-5.1111821834508255, 'get'), (-5.033543840222222, 'make'), (-5.016891586702144, 'coffe'), (-4.921687138294857, 'tri'), (-4.884823300779619, 'product'), (-4.8517461046313475, 'tea'), (-4.801239056886743, 'one'), (-4.750866160224186, 'use'), (-4.721406509863252, 'great'), (-4.709973880145904, 'love'), (-4.681250398080229, 'flavor'), (-4.64991599765175, 'good'), (-4.5148433650593685, 'tast'), (-4.453225436158448, 'like')]\n"
     ]
    }
   ],
   "source": [
    "#Getting 20 most important words in positive reviews\n",
    "feature_names = count_vect.get_feature_names()\n",
    "pos = sorted(zip(nb_bow.coef_[0], feature_names))\n",
    "print(pos[-20:])"
   ]
  },
  {
   "cell_type": "code",
   "execution_count": 14,
   "metadata": {},
   "outputs": [
    {
     "name": "stdout",
     "output_type": "stream",
     "text": [
      "['make' 'amazon' 'box' 'even' 'dont' 'tea' 'food' 'order' 'get' 'buy'\n",
      " 'coffe' 'use' 'good' 'would' 'tri' 'flavor' 'one' 'product' 'like' 'tast']\n"
     ]
    }
   ],
   "source": [
    "#Getting 20 most important words in negative reviews\n",
    "neg_prob = nb_bow.feature_log_prob_[0, :].argsort()\n",
    "print(np.take(count_vect.get_feature_names(), neg_prob[-20:]))"
   ]
  },
  {
   "cell_type": "code",
   "execution_count": 22,
   "metadata": {},
   "outputs": [
    {
     "name": "stdout",
     "output_type": "stream",
     "text": [
      "On train Data :\n",
      "             precision    recall  f1-score   support\n",
      "\n",
      "   negative       0.71      0.69      0.70     19989\n",
      "   positive       0.95      0.95      0.95    120011\n",
      "\n",
      "avg / total       0.91      0.92      0.91    140000\n",
      "\n",
      "\n",
      "The value of TPR is 0.952\n",
      "The value of TNR is 0.694\n",
      "The value of FPR is 0.306\n",
      "The value of FNR is 0.048\n",
      "\n",
      "Train error is 8.477\n",
      "The Accuracy Score on Train data is 91.523\n"
     ]
    },
    {
     "data": {
      "text/plain": [
       "[Text(33,0.5,'Actual'), Text(0.5,15,'Predicted')]"
      ]
     },
     "execution_count": 22,
     "metadata": {},
     "output_type": "execute_result"
    },
    {
     "data": {
      "image/png": "[encoded data removed]",
      "text/plain": [
       "<Figure size 432x288 with 2 Axes>"
      ]
     },
     "metadata": {},
     "output_type": "display_data"
    }
   ],
   "source": [
    "#for train error\n",
    "y_true, y_pred = y_train, nb_bow.predict(d_train)\n",
    "print(\"On train Data :\")\n",
    "print(classification_report(y_true, y_pred))\n",
    "print()\n",
    "tn, fp, fn, tp = confusion_matrix(y_true, y_pred).ravel()\n",
    "print(\"The value of TPR is %.3f\" %(tp/(fn+tp)) +\n",
    "      \"\\nThe value of TNR is %.3f\" %(tn/(tn+fp)) +\n",
    "     \"\\nThe value of FPR is %.3f\" %(fp/(tn+fp)) +\n",
    "     \"\\nThe value of FNR is %.3f\" %(fn/(fn+tp)) )\n",
    "print()\n",
    "print(\"Train error is %.3f\" %((fp+fn)/(1.4*10**3)))\n",
    "print(\"The Accuracy Score on Train data is %.3f\" %(accuracy_score(y_true, y_pred)*100))\n",
    "\n",
    "cm=confusion_matrix(y_true, y_pred)\n",
    "ax=sns.heatmap(cm,annot=True,fmt=\"d\")\n",
    "ax.set(xlabel='Predicted', ylabel='Actual')"
   ]
  },
  {
   "cell_type": "code",
   "execution_count": 23,
   "metadata": {},
   "outputs": [
    {
     "name": "stdout",
     "output_type": "stream",
     "text": [
      "On test Data :\n",
      "             precision    recall  f1-score   support\n",
      "\n",
      "   negative       0.68      0.64      0.66      8470\n",
      "   positive       0.94      0.95      0.95     51530\n",
      "\n",
      "avg / total       0.90      0.91      0.91     60000\n",
      "\n",
      "\n",
      "The value of TPR is 0.952\n",
      "The value of TNR is 0.636\n",
      "The value of FPR is 0.364\n",
      "The value of FNR is 0.048\n",
      "\n",
      "Test error is 9.293\n",
      "The Accuracy Score on Test data is 90.707\n"
     ]
    },
    {
     "data": {
      "text/plain": [
       "[Text(33,0.5,'Actual'), Text(0.5,15,'Predicted')]"
      ]
     },
     "execution_count": 23,
     "metadata": {},
     "output_type": "execute_result"
    },
    {
     "data": {
      "image/png": "[encoded data removed]",
      "text/plain": [
       "<Figure size 432x288 with 2 Axes>"
      ]
     },
     "metadata": {},
     "output_type": "display_data"
    }
   ],
   "source": [
    "#for test error\n",
    "y_true, y_pred = y_test, nb_bow.predict(d_test)\n",
    "print(\"On test Data :\")\n",
    "print(classification_report(y_true, y_pred))\n",
    "print()\n",
    "tn, fp, fn, tp = confusion_matrix(y_true, y_pred).ravel()\n",
    "print(\"The value of TPR is %.3f\" %(tp/(fn+tp)) +\n",
    "      \"\\nThe value of TNR is %.3f\" %(tn/(tn+fp)) +\n",
    "     \"\\nThe value of FPR is %.3f\" %(fp/(tn+fp)) +\n",
    "     \"\\nThe value of FNR is %.3f\" %(fn/(fn+tp)) )\n",
    "print()\n",
    "print(\"Test error is %.3f\" %((fp+fn)/(0.6*10**3)))\n",
    "print(\"The Accuracy Score on Test data is %.3f\" %(accuracy_score(y_true, y_pred)*100))\n",
    "\n",
    "cm=confusion_matrix(y_true, y_pred)\n",
    "ax=sns.heatmap(cm,annot=True,fmt=\"d\")\n",
    "ax.set(xlabel='Predicted', ylabel='Actual')"
   ]
  },
  {
   "cell_type": "markdown",
   "metadata": {},
   "source": [
    "### Using Bigrams"
   ]
  },
  {
   "cell_type": "code",
   "execution_count": 24,
   "metadata": {},
   "outputs": [
    {
     "name": "stdout",
     "output_type": "stream",
     "text": [
      "\n"
     ]
    }
   ],
   "source": [
    "import warnings\n",
    "warnings.filterwarnings('ignore')\n",
    "\n",
    "#defining alpha for grid-search\n",
    "param= {'alpha':[0.001,0.01,1,10,100,1000,10000]}\n",
    "\n",
    "#Using Grid Search to get Best Alpha\n",
    "\n",
    "clf = GridSearchCV(MultinomialNB(), param, cv=5)\n",
    "clf.fit(d_train_bg, y_train)\n",
    "print()\n",
    "optimal_alpha=clf.best_params_.get('alpha')"
   ]
  },
  {
   "cell_type": "code",
   "execution_count": 25,
   "metadata": {},
   "outputs": [
    {
     "data": {
      "text/plain": [
       "MultinomialNB(alpha=0.001, class_prior=None, fit_prior=True)"
      ]
     },
     "execution_count": 25,
     "metadata": {},
     "output_type": "execute_result"
    }
   ],
   "source": [
    "nb_gram=MultinomialNB(alpha=optimal_alpha)\n",
    "nb_gram.fit(d_train_bg,y_train)\n"
   ]
  },
  {
   "cell_type": "code",
   "execution_count": 26,
   "metadata": {},
   "outputs": [
    {
     "data": {
      "text/plain": [
       "['nb_bow_gram.pkl']"
      ]
     },
     "execution_count": 26,
     "metadata": {},
     "output_type": "execute_result"
    }
   ],
   "source": [
    "#Saving the model\n",
    "from sklearn.externals import joblib\n",
    "joblib.dump(nb_gram, 'nb_bow_gram.pkl') "
   ]
  },
  {
   "cell_type": "code",
   "execution_count": 27,
   "metadata": {},
   "outputs": [],
   "source": [
    "#retrieve the model\n",
    "#nb_gram = joblib.load('nb_bow_gram.pkl')"
   ]
  },
  {
   "cell_type": "code",
   "execution_count": 28,
   "metadata": {},
   "outputs": [
    {
     "name": "stdout",
     "output_type": "stream",
     "text": [
      "[(-6.078512429161581, 'would'), (-6.06795204992892, 'amazon'), (-6.066348434239329, 'eat'), (-6.053131958492189, 'buy'), (-6.046921945519552, 'time'), (-5.908770077013202, 'food'), (-5.7813648402577975, 'get'), (-5.703723772053371, 'make'), (-5.687070961116946, 'coffe'), (-5.591863498088349, 'tri'), (-5.554998568233968, 'product'), (-5.5219204256460905, 'tea'), (-5.471411991809772, 'one'), (-5.421037780738963, 'use'), (-5.391577391802585, 'great'), (-5.380144481270296, 'love'), (-5.351420307686249, 'flavor'), (-5.320085175193604, 'good'), (-5.185009636760295, 'tast'), (-5.123390507148429, 'like')]\n"
     ]
    }
   ],
   "source": [
    "#Getting 20 most important words in positive reviews\n",
    "feature_names = count_vect_bg.get_feature_names()\n",
    "pos = sorted(zip(nb_gram.coef_[0], feature_names))\n",
    "print(pos[-20:])"
   ]
  },
  {
   "cell_type": "code",
   "execution_count": 29,
   "metadata": {},
   "outputs": [
    {
     "name": "stdout",
     "output_type": "stream",
     "text": [
      "['make' 'amazon' 'box' 'even' 'dont' 'tea' 'food' 'order' 'get' 'buy'\n",
      " 'coffe' 'use' 'good' 'would' 'tri' 'flavor' 'one' 'product' 'like' 'tast']\n"
     ]
    }
   ],
   "source": [
    "#Getting 20 most important words in negative reviews\n",
    "neg_prob = nb_gram.feature_log_prob_[0, :].argsort()\n",
    "print(np.take(count_vect_bg.get_feature_names(), neg_prob[-20:]))"
   ]
  },
  {
   "cell_type": "code",
   "execution_count": 30,
   "metadata": {},
   "outputs": [
    {
     "name": "stdout",
     "output_type": "stream",
     "text": [
      "On train Data :\n",
      "             precision    recall  f1-score   support\n",
      "\n",
      "   negative       0.99      0.99      0.99     19989\n",
      "   positive       1.00      1.00      1.00    120011\n",
      "\n",
      "avg / total       1.00      1.00      1.00    140000\n",
      "\n",
      "\n",
      "The value of TPR is 0.999\n",
      "The value of TNR is 0.993\n",
      "The value of FPR is 0.007\n",
      "The value of FNR is 0.001\n",
      "\n",
      "Train error is 0.197\n",
      "The Accuracy Score on Train data is 99.803\n"
     ]
    },
    {
     "data": {
      "text/plain": [
       "[Text(33,0.5,'Actual'), Text(0.5,15,'Predicted')]"
      ]
     },
     "execution_count": 30,
     "metadata": {},
     "output_type": "execute_result"
    },
    {
     "data": {
      "image/png": "[encoded data removed]",
      "text/plain": [
       "<Figure size 432x288 with 2 Axes>"
      ]
     },
     "metadata": {},
     "output_type": "display_data"
    }
   ],
   "source": [
    "#for train error\n",
    "y_true, y_pred = y_train, nb_gram.predict(d_train_bg)\n",
    "print(\"On train Data :\")\n",
    "print(classification_report(y_true, y_pred))\n",
    "print()\n",
    "tn, fp, fn, tp = confusion_matrix(y_true, y_pred).ravel()\n",
    "print(\"The value of TPR is %.3f\" %(tp/(fn+tp)) +\n",
    "      \"\\nThe value of TNR is %.3f\" %(tn/(tn+fp)) +\n",
    "     \"\\nThe value of FPR is %.3f\" %(fp/(tn+fp)) +\n",
    "     \"\\nThe value of FNR is %.3f\" %(fn/(fn+tp)) )\n",
    "print()\n",
    "print(\"Train error is %.3f\" %((fp+fn)/(1.4*10**3)))\n",
    "print(\"The Accuracy Score on Train data is %.3f\" %(accuracy_score(y_true, y_pred)*100))\n",
    "\n",
    "cm=confusion_matrix(y_true, y_pred)\n",
    "ax=sns.heatmap(cm,annot=True,fmt=\"d\")\n",
    "ax.set(xlabel='Predicted', ylabel='Actual')"
   ]
  },
  {
   "cell_type": "code",
   "execution_count": 31,
   "metadata": {},
   "outputs": [
    {
     "name": "stdout",
     "output_type": "stream",
     "text": [
      "On test Data :\n",
      "             precision    recall  f1-score   support\n",
      "\n",
      "   negative       0.81      0.37      0.51      8470\n",
      "   positive       0.91      0.99      0.94     51530\n",
      "\n",
      "avg / total       0.89      0.90      0.88     60000\n",
      "\n",
      "\n",
      "The value of TPR is 0.985\n",
      "The value of TNR is 0.374\n",
      "The value of FPR is 0.626\n",
      "The value of FNR is 0.015\n",
      "\n",
      "Test error is 10.112\n",
      "The Accuracy Score on Test data is 89.888\n"
     ]
    },
    {
     "data": {
      "text/plain": [
       "[Text(33,0.5,'Actual'), Text(0.5,15,'Predicted')]"
      ]
     },
     "execution_count": 31,
     "metadata": {},
     "output_type": "execute_result"
    },
    {
     "data": {
      "image/png": "[encoded data removed]",
      "text/plain": [
       "<Figure size 432x288 with 2 Axes>"
      ]
     },
     "metadata": {},
     "output_type": "display_data"
    }
   ],
   "source": [
    "#for test error\n",
    "y_true, y_pred = y_test, nb_gram.predict(d_test_bg)\n",
    "print(\"On test Data :\")\n",
    "print(classification_report(y_true, y_pred))\n",
    "print()\n",
    "tn, fp, fn, tp = confusion_matrix(y_true, y_pred).ravel()\n",
    "print(\"The value of TPR is %.3f\" %(tp/(fn+tp)) +\n",
    "      \"\\nThe value of TNR is %.3f\" %(tn/(tn+fp)) +\n",
    "     \"\\nThe value of FPR is %.3f\" %(fp/(tn+fp)) +\n",
    "     \"\\nThe value of FNR is %.3f\" %(fn/(fn+tp)) )\n",
    "print()\n",
    "print(\"Test error is %.3f\" %((fp+fn)/(0.6*10**3)))\n",
    "print(\"The Accuracy Score on Test data is %.3f\" %(accuracy_score(y_true, y_pred)*100))\n",
    "\n",
    "cm=confusion_matrix(y_true, y_pred)\n",
    "ax=sns.heatmap(cm,annot=True,fmt=\"d\")\n",
    "ax.set(xlabel='Predicted', ylabel='Actual')"
   ]
  },
  {
   "cell_type": "markdown",
   "metadata": {},
   "source": [
    "# [18.3] TF-IDF"
   ]
  },
  {
   "cell_type": "code",
   "execution_count": 32,
   "metadata": {},
   "outputs": [
    {
     "data": {
      "text/plain": [
       "TfidfVectorizer(analyzer='word', binary=False, decode_error='strict',\n",
       "        dtype=<class 'numpy.int64'>, encoding='utf-8', input='content',\n",
       "        lowercase=True, max_df=1.0, max_features=None, min_df=1,\n",
       "        ngram_range=(1, 1), norm='l2', preprocessor=None, smooth_idf=True,\n",
       "        stop_words=None, strip_accents=None, sublinear_tf=False,\n",
       "        token_pattern='(?u)\\\\b\\\\w\\\\w+\\\\b', tokenizer=None, use_idf=True,\n",
       "        vocabulary=None)"
      ]
     },
     "execution_count": 32,
     "metadata": {},
     "output_type": "execute_result"
    }
   ],
   "source": [
    "#Build The Vocabulary\n",
    "tf_idf_vect = TfidfVectorizer()\n",
    "tf_idf_vect.fit(dw_train['CleanedText'].values)"
   ]
  },
  {
   "cell_type": "code",
   "execution_count": 33,
   "metadata": {},
   "outputs": [
    {
     "name": "stdout",
     "output_type": "stream",
     "text": [
      "the type of count vectorizer  <class 'scipy.sparse.csr.csr_matrix'>\n",
      "the shape of train-text BOW vectorizer  (140000, 44065)\n",
      "the shape of test-text BOW vectorizer  (60000, 44065)\n"
     ]
    }
   ],
   "source": [
    "#Vectorize train and test data\n",
    "\n",
    "d_train = tf_idf_vect.transform(dw_train['CleanedText'].values)\n",
    "print(\"the type of count vectorizer \",type(d_train))\n",
    "print(\"the shape of train-text BOW vectorizer \",d_train.get_shape())\n",
    "\n",
    "d_test = tf_idf_vect.transform(dw_test['CleanedText'].values)\n",
    "print(\"the shape of test-text BOW vectorizer \",d_test.get_shape())"
   ]
  },
  {
   "cell_type": "markdown",
   "metadata": {},
   "source": [
    "### Bi-grams & N-grams ###"
   ]
  },
  {
   "cell_type": "code",
   "execution_count": 34,
   "metadata": {},
   "outputs": [
    {
     "data": {
      "text/plain": [
       "TfidfVectorizer(analyzer='word', binary=False, decode_error='strict',\n",
       "        dtype=<class 'numpy.int64'>, encoding='utf-8', input='content',\n",
       "        lowercase=True, max_df=1.0, max_features=None, min_df=1,\n",
       "        ngram_range=(1, 2), norm='l2', preprocessor=None, smooth_idf=True,\n",
       "        stop_words=None, strip_accents=None, sublinear_tf=False,\n",
       "        token_pattern='(?u)\\\\b\\\\w\\\\w+\\\\b', tokenizer=None, use_idf=True,\n",
       "        vocabulary=None)"
      ]
     },
     "execution_count": 34,
     "metadata": {},
     "output_type": "execute_result"
    }
   ],
   "source": [
    "##Build The Vocabulary using bi-grams and ngrams\n",
    "tf_idf_vect_ng = TfidfVectorizer(ngram_range=(1,2))\n",
    "tf_idf_vect_ng.fit(dw_train['CleanedText'].values)"
   ]
  },
  {
   "cell_type": "code",
   "execution_count": 35,
   "metadata": {},
   "outputs": [
    {
     "name": "stdout",
     "output_type": "stream",
     "text": [
      "the type of count vectorizer  <class 'scipy.sparse.csr.csr_matrix'>\n",
      "the shape of train-text BOW vectorizer  (140000, 1557089)\n",
      "the shape of test-text BOW vectorizer  (140000, 1557089)\n"
     ]
    }
   ],
   "source": [
    "#Vectorize train and test data\n",
    "\n",
    "d_train_ng = tf_idf_vect_ng.transform(dw_train['CleanedText'].values)\n",
    "print(\"the type of count vectorizer \",type(d_train))\n",
    "print(\"the shape of train-text BOW vectorizer \",d_train_ng.get_shape())\n",
    "\n",
    "d_test_ng = tf_idf_vect_ng.transform(dw_test['CleanedText'].values)\n",
    "print(\"the shape of test-text BOW vectorizer \",d_train_ng.get_shape())"
   ]
  },
  {
   "cell_type": "markdown",
   "metadata": {},
   "source": [
    "## [18.3.1] Multinomial Naive Bayes"
   ]
  },
  {
   "cell_type": "code",
   "execution_count": 36,
   "metadata": {},
   "outputs": [
    {
     "name": "stdout",
     "output_type": "stream",
     "text": [
      " optimal value is {'alpha': 0.01}\n",
      "\n"
     ]
    }
   ],
   "source": [
    "import warnings\n",
    "warnings.filterwarnings('ignore')\n",
    "\n",
    "#defining alpha for grid-search\n",
    "param= {'alpha':[0.001,0.01,1,10,100,1000,10000]}\n",
    "\n",
    "#Using Grid Search to get Best Alpha\n",
    "\n",
    "clf = GridSearchCV(MultinomialNB(), param, cv=5)\n",
    "clf.fit(d_train, y_train)\n",
    "print(\" optimal value is \" + str(clf.best_params_))\n",
    "print()\n",
    "optimal_alpha=clf.best_params_.get('alpha')"
   ]
  },
  {
   "cell_type": "code",
   "execution_count": 37,
   "metadata": {},
   "outputs": [
    {
     "data": {
      "text/plain": [
       "MultinomialNB(alpha=0.01, class_prior=None, fit_prior=True)"
      ]
     },
     "execution_count": 37,
     "metadata": {},
     "output_type": "execute_result"
    }
   ],
   "source": [
    "nb_tfidf=MultinomialNB(alpha=optimal_alpha)\n",
    "nb_tfidf.fit(d_train,y_train)\n"
   ]
  },
  {
   "cell_type": "code",
   "execution_count": 38,
   "metadata": {},
   "outputs": [
    {
     "data": {
      "text/plain": [
       "['nb_tfidf.pkl']"
      ]
     },
     "execution_count": 38,
     "metadata": {},
     "output_type": "execute_result"
    }
   ],
   "source": [
    "#Saving the model\n",
    "from sklearn.externals import joblib\n",
    "joblib.dump(nb_tfidf, 'nb_tfidf.pkl') "
   ]
  },
  {
   "cell_type": "code",
   "execution_count": 39,
   "metadata": {},
   "outputs": [],
   "source": [
    "#retrieve the model\n",
    "#nb_tfidf = joblib.load('nb_tfidf.pkl')"
   ]
  },
  {
   "cell_type": "code",
   "execution_count": 40,
   "metadata": {},
   "outputs": [
    {
     "name": "stdout",
     "output_type": "stream",
     "text": [
      "[(-5.718697638973457, 'food'), (-5.692052299839936, 'find'), (-5.6852416491887565, 'amazon'), (-5.666648072675275, 'buy'), (-5.64356417516968, 'price'), (-5.632510311552776, 'best'), (-5.611947248305387, 'get'), (-5.545032632784195, 'make'), (-5.482649622668324, 'tri'), (-5.417117074406126, 'one'), (-5.336961901782471, 'use'), (-5.31620971628724, 'product'), (-5.242023936394497, 'coffe'), (-5.219046419888091, 'flavor'), (-5.159192473698781, 'like'), (-5.149638345480277, 'tea'), (-5.138526013785967, 'tast'), (-5.137242328228577, 'good'), (-5.084276079525077, 'love'), (-5.063082763654018, 'great')]\n"
     ]
    }
   ],
   "source": [
    "#Getting 20 most important words in positive reviews\n",
    "feature_names = tf_idf_vect.get_feature_names()\n",
    "pos = sorted(zip(nb_tfidf.coef_[0], feature_names))\n",
    "print(pos[-20:])"
   ]
  },
  {
   "cell_type": "code",
   "execution_count": 41,
   "metadata": {},
   "outputs": [
    {
     "name": "stdout",
     "output_type": "stream",
     "text": [
      "['bag' 'food' 'even' 'use' 'get' 'dont' 'disappoint' 'good' 'tea' 'box'\n",
      " 'order' 'buy' 'tri' 'coffe' 'flavor' 'one' 'would' 'product' 'like'\n",
      " 'tast']\n"
     ]
    }
   ],
   "source": [
    "#Getting 20 most important words in negative reviews\n",
    "neg_prob = nb_tfidf.feature_log_prob_[0, :].argsort()\n",
    "print(np.take(tf_idf_vect.get_feature_names(), neg_prob[-20:]))"
   ]
  },
  {
   "cell_type": "code",
   "execution_count": 42,
   "metadata": {},
   "outputs": [
    {
     "name": "stdout",
     "output_type": "stream",
     "text": [
      "On train Data :\n",
      "             precision    recall  f1-score   support\n",
      "\n",
      "   negative       0.95      0.37      0.53     19989\n",
      "   positive       0.90      1.00      0.95    120011\n",
      "\n",
      "avg / total       0.91      0.91      0.89    140000\n",
      "\n",
      "\n",
      "The value of TPR is 0.997\n",
      "The value of TNR is 0.367\n",
      "The value of FPR is 0.633\n",
      "The value of FNR is 0.003\n",
      "\n",
      "Train error is 9.339\n",
      "The Accuracy Score on Train data is 90.661\n"
     ]
    },
    {
     "data": {
      "text/plain": [
       "[Text(33,0.5,'Actual'), Text(0.5,15,'Predicted')]"
      ]
     },
     "execution_count": 42,
     "metadata": {},
     "output_type": "execute_result"
    },
    {
     "data": {
      "image/png": "[encoded data removed]",
      "text/plain": [
       "<Figure size 432x288 with 2 Axes>"
      ]
     },
     "metadata": {},
     "output_type": "display_data"
    }
   ],
   "source": [
    "#for train error\n",
    "y_true, y_pred = y_train, nb_tfidf.predict(d_train)\n",
    "print(\"On train Data :\")\n",
    "print(classification_report(y_true, y_pred))\n",
    "print()\n",
    "tn, fp, fn, tp = confusion_matrix(y_true, y_pred).ravel()\n",
    "print(\"The value of TPR is %.3f\" %(tp/(fn+tp)) +\n",
    "      \"\\nThe value of TNR is %.3f\" %(tn/(tn+fp)) +\n",
    "     \"\\nThe value of FPR is %.3f\" %(fp/(tn+fp)) +\n",
    "     \"\\nThe value of FNR is %.3f\" %(fn/(fn+tp)) )\n",
    "print()\n",
    "print(\"Train error is %.3f\" %((fp+fn)/(1.4*10**3)))\n",
    "print(\"The Accuracy Score on Train data is %.3f\" %(accuracy_score(y_true, y_pred)*100))\n",
    "\n",
    "cm=confusion_matrix(y_true, y_pred)\n",
    "ax=sns.heatmap(cm,annot=True,fmt=\"d\")\n",
    "ax.set(xlabel='Predicted', ylabel='Actual')"
   ]
  },
  {
   "cell_type": "code",
   "execution_count": 43,
   "metadata": {},
   "outputs": [
    {
     "name": "stdout",
     "output_type": "stream",
     "text": [
      "On test Data :\n",
      "             precision    recall  f1-score   support\n",
      "\n",
      "   negative       0.85      0.23      0.36      8470\n",
      "   positive       0.89      0.99      0.94     51530\n",
      "\n",
      "avg / total       0.88      0.89      0.86     60000\n",
      "\n",
      "\n",
      "The value of TPR is 0.993\n",
      "The value of TNR is 0.231\n",
      "The value of FPR is 0.769\n",
      "The value of FNR is 0.007\n",
      "\n",
      "Test error is 11.438\n",
      "The Accuracy Score on Test data is 88.562\n"
     ]
    },
    {
     "data": {
      "text/plain": [
       "[Text(33,0.5,'Actual'), Text(0.5,15,'Predicted')]"
      ]
     },
     "execution_count": 43,
     "metadata": {},
     "output_type": "execute_result"
    },
    {
     "data": {
      "image/png": "[encoded data removed]",
      "text/plain": [
       "<Figure size 432x288 with 2 Axes>"
      ]
     },
     "metadata": {},
     "output_type": "display_data"
    }
   ],
   "source": [
    "#for test error\n",
    "y_true, y_pred = y_test, nb_tfidf.predict(d_test)\n",
    "print(\"On test Data :\")\n",
    "print(classification_report(y_true, y_pred))\n",
    "print()\n",
    "tn, fp, fn, tp = confusion_matrix(y_true, y_pred).ravel()\n",
    "print(\"The value of TPR is %.3f\" %(tp/(fn+tp)) +\n",
    "      \"\\nThe value of TNR is %.3f\" %(tn/(tn+fp)) +\n",
    "     \"\\nThe value of FPR is %.3f\" %(fp/(tn+fp)) +\n",
    "     \"\\nThe value of FNR is %.3f\" %(fn/(fn+tp)) )\n",
    "print()\n",
    "print(\"Test error is %.3f\" %((fp+fn)/(0.6*10**3)))\n",
    "print(\"The Accuracy Score on Test data is %.3f\" %(accuracy_score(y_true, y_pred)*100))\n",
    "\n",
    "cm=confusion_matrix(y_true, y_pred)\n",
    "ax=sns.heatmap(cm,annot=True,fmt=\"d\")\n",
    "ax.set(xlabel='Predicted', ylabel='Actual')"
   ]
  },
  {
   "cell_type": "markdown",
   "metadata": {},
   "source": [
    "### Using Bigrams"
   ]
  },
  {
   "cell_type": "code",
   "execution_count": 54,
   "metadata": {},
   "outputs": [
    {
     "name": "stdout",
     "output_type": "stream",
     "text": [
      " optimal value is {'alpha': 0.001}\n"
     ]
    }
   ],
   "source": [
    "import warnings\n",
    "warnings.filterwarnings('ignore')\n",
    "\n",
    "#defining alpha for grid-search\n",
    "param= {'alpha':[0.001,0.01,1,10,100,1000,10000]}\n",
    "\n",
    "#Using Grid Search to get Best Alpha\n",
    "\n",
    "clf = GridSearchCV(MultinomialNB(), param, cv=10)\n",
    "clf.fit(d_train_ng, y_train)\n",
    "print(\" optimal value is \" + str(clf.best_params_))\n",
    "optimal_alpha=clf.best_params_.get('alpha')"
   ]
  },
  {
   "cell_type": "code",
   "execution_count": 55,
   "metadata": {},
   "outputs": [
    {
     "data": {
      "text/plain": [
       "MultinomialNB(alpha=0.001, class_prior=None, fit_prior=True)"
      ]
     },
     "execution_count": 55,
     "metadata": {},
     "output_type": "execute_result"
    }
   ],
   "source": [
    "nb_tfidf_gram=MultinomialNB(alpha=optimal_alpha)\n",
    "nb_tfidf_gram.fit(d_train_ng,y_train)\n"
   ]
  },
  {
   "cell_type": "code",
   "execution_count": 56,
   "metadata": {},
   "outputs": [
    {
     "data": {
      "text/plain": [
       "['nb_tfidf_gram.pkl']"
      ]
     },
     "execution_count": 56,
     "metadata": {},
     "output_type": "execute_result"
    }
   ],
   "source": [
    "#Saving the model\n",
    "from sklearn.externals import joblib\n",
    "joblib.dump(nb_tfidf_gram, 'nb_tfidf_gram.pkl') "
   ]
  },
  {
   "cell_type": "code",
   "execution_count": 58,
   "metadata": {},
   "outputs": [],
   "source": [
    "#retrieve the model\n",
    "#nb_tfidf_gram = joblib.load('nb_tfidf_gram.pkl')"
   ]
  },
  {
   "cell_type": "code",
   "execution_count": 59,
   "metadata": {},
   "outputs": [
    {
     "name": "stdout",
     "output_type": "stream",
     "text": [
      "[(-6.820194510244229, 'find'), (-6.816627720581208, 'amazon'), (-6.815778401535542, 'food'), (-6.803241850946741, 'buy'), (-6.7867733479663706, 'price'), (-6.757634626681588, 'best'), (-6.729722915590083, 'get'), (-6.654338864191807, 'make'), (-6.595308105675289, 'tri'), (-6.5318711607591435, 'one'), (-6.448355760995519, 'product'), (-6.443385142405663, 'use'), (-6.354050942358738, 'coffe'), (-6.338428235679675, 'flavor'), (-6.272514887641407, 'like'), (-6.270743200299622, 'good'), (-6.260476281247646, 'tast'), (-6.24171673249576, 'tea'), (-6.221436620566994, 'love'), (-6.205526025658244, 'great')]\n"
     ]
    }
   ],
   "source": [
    "#Getting 20 most important words in positive reviews\n",
    "feature_names = tf_idf_vect_ng.get_feature_names()\n",
    "pos = sorted(zip(nb_tfidf_gram.coef_[0], feature_names))\n",
    "print(pos[-20:])"
   ]
  },
  {
   "cell_type": "code",
   "execution_count": 60,
   "metadata": {},
   "outputs": [
    {
     "name": "stdout",
     "output_type": "stream",
     "text": [
      "['bag' 'even' 'food' 'use' 'get' 'disappoint' 'dont' 'good' 'box' 'tea'\n",
      " 'buy' 'order' 'tri' 'coffe' 'flavor' 'one' 'would' 'product' 'like'\n",
      " 'tast']\n"
     ]
    }
   ],
   "source": [
    "#Getting 20 most important words in negative reviews\n",
    "neg_prob = nb_tfidf_gram.feature_log_prob_[0, :].argsort()\n",
    "print(np.take(tf_idf_vect_ng.get_feature_names(), neg_prob[-20:]))"
   ]
  },
  {
   "cell_type": "code",
   "execution_count": 61,
   "metadata": {},
   "outputs": [
    {
     "name": "stdout",
     "output_type": "stream",
     "text": [
      "On train Data :\n",
      "             precision    recall  f1-score   support\n",
      "\n",
      "   negative       1.00      0.99      0.99     19989\n",
      "   positive       1.00      1.00      1.00    120011\n",
      "\n",
      "avg / total       1.00      1.00      1.00    140000\n",
      "\n",
      "\n",
      "The value of TPR is 1.000\n",
      "The value of TNR is 0.991\n",
      "The value of FPR is 0.009\n",
      "The value of FNR is 0.000\n",
      "\n",
      "Train error is 0.149\n",
      "The Accuracy Score on Train data is 99.851\n"
     ]
    },
    {
     "data": {
      "text/plain": [
       "[Text(33,0.5,'Actual'), Text(0.5,15,'Predicted')]"
      ]
     },
     "execution_count": 61,
     "metadata": {},
     "output_type": "execute_result"
    },
    {
     "data": {
      "image/png": "[encoded data removed]",
      "text/plain": [
       "<Figure size 432x288 with 2 Axes>"
      ]
     },
     "metadata": {},
     "output_type": "display_data"
    }
   ],
   "source": [
    "#for train error\n",
    "y_true, y_pred = y_train, nb_tfidf_gram.predict(d_train_ng)\n",
    "print(\"On train Data :\")\n",
    "print(classification_report(y_true, y_pred))\n",
    "print()\n",
    "tn, fp, fn, tp = confusion_matrix(y_true, y_pred).ravel()\n",
    "print(\"The value of TPR is %.3f\" %(tp/(fn+tp)) +\n",
    "      \"\\nThe value of TNR is %.3f\" %(tn/(tn+fp)) +\n",
    "     \"\\nThe value of FPR is %.3f\" %(fp/(tn+fp)) +\n",
    "     \"\\nThe value of FNR is %.3f\" %(fn/(fn+tp)) )\n",
    "print()\n",
    "print(\"Train error is %.3f\" %((fp+fn)/(1.4*10**3)))\n",
    "print(\"The Accuracy Score on Train data is %.3f\" %(accuracy_score(y_true, y_pred)*100))\n",
    "\n",
    "cm=confusion_matrix(y_true, y_pred)\n",
    "ax=sns.heatmap(cm,annot=True,fmt=\"d\")\n",
    "ax.set(xlabel='Predicted', ylabel='Actual')"
   ]
  },
  {
   "cell_type": "code",
   "execution_count": 62,
   "metadata": {
    "scrolled": false
   },
   "outputs": [
    {
     "name": "stdout",
     "output_type": "stream",
     "text": [
      "On test Data :\n",
      "             precision    recall  f1-score   support\n",
      "\n",
      "   negative       0.86      0.29      0.43      8470\n",
      "   positive       0.89      0.99      0.94     51530\n",
      "\n",
      "avg / total       0.89      0.89      0.87     60000\n",
      "\n",
      "\n",
      "The value of TPR is 0.992\n",
      "The value of TNR is 0.290\n",
      "The value of FPR is 0.710\n",
      "The value of FNR is 0.008\n",
      "\n",
      "Test error is 10.693\n",
      "The Accuracy Score on Test data is 89.307\n"
     ]
    },
    {
     "data": {
      "text/plain": [
       "[Text(33,0.5,'Actual'), Text(0.5,15,'Predicted')]"
      ]
     },
     "execution_count": 62,
     "metadata": {},
     "output_type": "execute_result"
    },
    {
     "data": {
      "image/png": "[encoded data removed]",
      "text/plain": [
       "<Figure size 432x288 with 2 Axes>"
      ]
     },
     "metadata": {},
     "output_type": "display_data"
    }
   ],
   "source": [
    "#for test error\n",
    "y_true, y_pred = y_test, nb_tfidf_gram.predict(d_test_ng)\n",
    "print(\"On test Data :\")\n",
    "print(classification_report(y_true, y_pred))\n",
    "print()\n",
    "tn, fp, fn, tp = confusion_matrix(y_true, y_pred).ravel()\n",
    "print(\"The value of TPR is %.3f\" %(tp/(fn+tp)) +\n",
    "      \"\\nThe value of TNR is %.3f\" %(tn/(tn+fp)) +\n",
    "     \"\\nThe value of FPR is %.3f\" %(fp/(tn+fp)) +\n",
    "     \"\\nThe value of FNR is %.3f\" %(fn/(fn+tp)) )\n",
    "print()\n",
    "print(\"Test error is %.3f\" %((fp+fn)/(0.6*10**3)))\n",
    "print(\"The Accuracy Score on Test data is %.3f\" %(accuracy_score(y_true, y_pred)*100))\n",
    "\n",
    "cm=confusion_matrix(y_true, y_pred)\n",
    "ax=sns.heatmap(cm,annot=True,fmt=\"d\")\n",
    "ax.set(xlabel='Predicted', ylabel='Actual')"
   ]
  },
  {
   "cell_type": "markdown",
   "metadata": {},
   "source": [
    "### Conclusion ###"
   ]
  },
  {
   "cell_type": "code",
   "execution_count": 53,
   "metadata": {},
   "outputs": [
    {
     "name": "stdout",
     "output_type": "stream",
     "text": [
      "+---------------------------+---------------+----------------+-----------+--------+----------+-------------+------------+\n",
      "|     Vectorising Method    | Optimal Alpha | Accuracy Score | Precision | Recall | F1-Score | Train Error | Test Error |\n",
      "+---------------------------+---------------+----------------+-----------+--------+----------+-------------+------------+\n",
      "|        Bag Of Words       |       1       |     90.707     |    0.9    |  0.91  |   0.91   |    8.477    |   9.293    |\n",
      "| Bag Of Words with n-grams |     0.001     |     89.888     |    0.89   |  0.9   |   0.88   |    0.197    |   10.112   |\n",
      "|           Tf-Idf          |      0.01     |     88.562     |    0.88   |  0.89  |   0.86   |    9.339    |   11.438   |\n",
      "|    Tf-Idf with n-grams    |     0.001     |     89.307     |    0.89   |  0.89  |   0.87   |    0.149    |   10.693   |\n",
      "+---------------------------+---------------+----------------+-----------+--------+----------+-------------+------------+\n",
      "\n",
      "\n",
      " Note: Accuracy, Precision, Recall and F1- Score are on Test Data\n"
     ]
    }
   ],
   "source": [
    "from prettytable import PrettyTable\n",
    "    \n",
    "pt = PrettyTable()\n",
    "\n",
    "pt.field_names = [\"Vectorising Method\", \"Optimal Alpha\", \"Accuracy Score\",\"Precision\", \"Recall\", \"F1-Score\",\"Train Error\", \"Test Error\"]\n",
    "\n",
    "pt.add_row([\"Bag Of Words\", 1, 90.707, 0.90, 0.91, 0.91, 8.477, 9.293 ])\n",
    "pt.add_row([\"Bag Of Words with n-grams\", 0.001, 89.888, 0.89, 0.90, 0.88, 0.197, 10.112])\n",
    "pt.add_row([\"Tf-Idf\", 0.01, 88.562, 0.88, 0.89, 0.86, 9.339, 11.438])\n",
    "pt.add_row([\"Tf-Idf with n-grams\", 0.001, 89.307, 0.89, 0.89, 0.87, 0.149, 10.693])\n",
    "\n",
    "print(pt)\n",
    "print(\"\\n\\n Note: Accuracy, Precision, Recall and F1- Score are on Test Data\")"
   ]
  },
  {
   "cell_type": "markdown",
   "metadata": {},
   "source": [
    "1) The train error is least when we are using *TF-idf (with uni-grams and bi-grams)* for vectorising.\n",
    "\n",
    "2) Minimum test error is achieved when we are using *Bag of Words (without uni-grams and bi-grams)* for vectorising.\n",
    "\n",
    "3) Maximum test error is seen when have used *TF-idf (without uni-grams and bi-grams)* for vectorising.\n",
    "\n",
    "4) The Best Accuracy score is achieved when we have used *Bag of Words (without uni-grams and bi-grams)* for vectorising.\n",
    "\n",
    "5) The top 20 words (in postive and negative reviews) are same when we are using *uni-grams and bi-grams* and when we are not, in both of the vectorising methods.\n",
    "\n",
    "6) The difference between test and train error is around 10 when we are using *uni-grams and bi-grams* in both vectorising methods, while the difference is very low when we haven't used *uni-grams and bigrams*. Clearly the model is overfitted due the curse of dimensionality. (have tried to reduce the dimension using TruncatedSVD but due to limited system resources haven't been able to do it)"
   ]
  },
  {
   "cell_type": "code",
   "execution_count": null,
   "metadata": {},
   "outputs": [],
   "source": []
  }
 ],
 "metadata": {
  "kernelspec": {
   "display_name": "Python 3",
   "language": "python",
   "name": "python3"
  },
  "language_info": {
   "codemirror_mode": {
    "name": "ipython",
    "version": 3
   },
   "file_extension": ".py",
   "mimetype": "text/x-python",
   "name": "python",
   "nbconvert_exporter": "python",
   "pygments_lexer": "ipython3",
   "version": "3.6.5"
  }
 },
 "nbformat": 4,
 "nbformat_minor": 2
}
